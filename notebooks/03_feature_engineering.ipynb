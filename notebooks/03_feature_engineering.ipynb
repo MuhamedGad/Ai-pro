{
 "cells": [
  {
   "cell_type": "code",
   "execution_count": 1,
   "id": "52431ff3-1b0d-40b1-b59d-47fac6de568b",
   "metadata": {},
   "outputs": [],
   "source": [
    "DATA_PATH =r\"C:\\Users\\Mohamed Gad\\OneDrive\\Desktop\\All About Data Science\\Data Sciience Projects\\End to End - Ai-Pro\\V1\\iti project\\AI-Pro Project\\data\\processed\\1_preprcoessed_df.pkl\""
   ]
  },
  {
   "cell_type": "code",
   "execution_count": 2,
   "id": "b4e1f117-b2dc-403b-91fb-a2d303907054",
   "metadata": {},
   "outputs": [],
   "source": [
    "TECH_COLS = [ 'DatabaseWorkedWith', 'LanguageWorkedWith', 'MiscTechWorkedWith',  'WebframeWorkedWith']\n",
    "TECH_NEXT_COLS = ['DatabaseDesireNextYear', 'LanguageDesireNextYear', 'MiscTechDesireNextYear', 'WebframeDesireNextYear',]\n",
    "ROLE_COLS = [\"DevType\"]"
   ]
  },
  {
   "cell_type": "code",
   "execution_count": 14,
   "id": "6c60e537-33b9-4349-8f00-bd0f82d1b20d",
   "metadata": {},
   "outputs": [],
   "source": [
    "import pandas as pd\n",
    "import numpy as np\n",
    "from sklearn.preprocessing import MultiLabelBinarizer\n",
    "from sklearn.manifold import TSNE\n",
    "from sklearn.preprocessing import StandardScaler\n",
    "import plotly.express as px"
   ]
  },
  {
   "cell_type": "code",
   "execution_count": 4,
   "id": "504440be-8761-4152-929c-9ad1cf36b00c",
   "metadata": {
    "tags": []
   },
   "outputs": [
    {
     "data": {
      "text/html": [
       "<div>\n",
       "<style scoped>\n",
       "    .dataframe tbody tr th:only-of-type {\n",
       "        vertical-align: middle;\n",
       "    }\n",
       "\n",
       "    .dataframe tbody tr th {\n",
       "        vertical-align: top;\n",
       "    }\n",
       "\n",
       "    .dataframe thead th {\n",
       "        text-align: right;\n",
       "    }\n",
       "</style>\n",
       "<table border=\"1\" class=\"dataframe\">\n",
       "  <thead>\n",
       "    <tr style=\"text-align: right;\">\n",
       "      <th></th>\n",
       "      <th>Respondent</th>\n",
       "      <th>MainBranch</th>\n",
       "      <th>Hobbyist</th>\n",
       "      <th>Age</th>\n",
       "      <th>Age1stCode</th>\n",
       "      <th>CompFreq</th>\n",
       "      <th>CompTotal</th>\n",
       "      <th>ConvertedComp</th>\n",
       "      <th>Country</th>\n",
       "      <th>CurrencyDesc</th>\n",
       "      <th>...</th>\n",
       "      <th>SurveyEase</th>\n",
       "      <th>SurveyLength</th>\n",
       "      <th>Trans</th>\n",
       "      <th>UndergradMajor</th>\n",
       "      <th>WebframeDesireNextYear</th>\n",
       "      <th>WebframeWorkedWith</th>\n",
       "      <th>WelcomeChange</th>\n",
       "      <th>WorkWeekHrs</th>\n",
       "      <th>YearsCode</th>\n",
       "      <th>YearsCodePro</th>\n",
       "    </tr>\n",
       "  </thead>\n",
       "  <tbody>\n",
       "    <tr>\n",
       "      <th>0</th>\n",
       "      <td>1</td>\n",
       "      <td>I am a developer by profession</td>\n",
       "      <td>Yes</td>\n",
       "      <td>NaN</td>\n",
       "      <td>13.0</td>\n",
       "      <td>Monthly</td>\n",
       "      <td>NaN</td>\n",
       "      <td>NaN</td>\n",
       "      <td>Germany</td>\n",
       "      <td>European Euro</td>\n",
       "      <td>...</td>\n",
       "      <td>Neither easy nor difficult</td>\n",
       "      <td>Appropriate in length</td>\n",
       "      <td>No</td>\n",
       "      <td>Computer science, computer engineering, or sof...</td>\n",
       "      <td>[ASP.NET Core]</td>\n",
       "      <td>[ASP.NET, ASP.NET Core]</td>\n",
       "      <td>Just as welcome now as I felt last year</td>\n",
       "      <td>50.0</td>\n",
       "      <td>36.0</td>\n",
       "      <td>27.0</td>\n",
       "    </tr>\n",
       "    <tr>\n",
       "      <th>1</th>\n",
       "      <td>2</td>\n",
       "      <td>I am a developer by profession</td>\n",
       "      <td>No</td>\n",
       "      <td>NaN</td>\n",
       "      <td>19.0</td>\n",
       "      <td></td>\n",
       "      <td>NaN</td>\n",
       "      <td>NaN</td>\n",
       "      <td>United Kingdom</td>\n",
       "      <td>Pound sterling</td>\n",
       "      <td>...</td>\n",
       "      <td></td>\n",
       "      <td></td>\n",
       "      <td></td>\n",
       "      <td>Computer science, computer engineering, or sof...</td>\n",
       "      <td>[]</td>\n",
       "      <td>[]</td>\n",
       "      <td>Somewhat more welcome now than last year</td>\n",
       "      <td>NaN</td>\n",
       "      <td>7.0</td>\n",
       "      <td>4.0</td>\n",
       "    </tr>\n",
       "  </tbody>\n",
       "</table>\n",
       "<p>2 rows × 61 columns</p>\n",
       "</div>"
      ],
      "text/plain": [
       "   Respondent                      MainBranch Hobbyist  Age  Age1stCode  \\\n",
       "0           1  I am a developer by profession      Yes  NaN        13.0   \n",
       "1           2  I am a developer by profession       No  NaN        19.0   \n",
       "\n",
       "  CompFreq  CompTotal  ConvertedComp         Country    CurrencyDesc  ...  \\\n",
       "0  Monthly        NaN            NaN         Germany   European Euro  ...   \n",
       "1                 NaN            NaN  United Kingdom  Pound sterling  ...   \n",
       "\n",
       "                   SurveyEase           SurveyLength Trans  \\\n",
       "0  Neither easy nor difficult  Appropriate in length    No   \n",
       "1                                                            \n",
       "\n",
       "                                      UndergradMajor WebframeDesireNextYear  \\\n",
       "0  Computer science, computer engineering, or sof...         [ASP.NET Core]   \n",
       "1  Computer science, computer engineering, or sof...                     []   \n",
       "\n",
       "        WebframeWorkedWith                             WelcomeChange  \\\n",
       "0  [ASP.NET, ASP.NET Core]   Just as welcome now as I felt last year   \n",
       "1                       []  Somewhat more welcome now than last year   \n",
       "\n",
       "  WorkWeekHrs YearsCode YearsCodePro  \n",
       "0        50.0      36.0         27.0  \n",
       "1         NaN       7.0          4.0  \n",
       "\n",
       "[2 rows x 61 columns]"
      ]
     },
     "execution_count": 4,
     "metadata": {},
     "output_type": "execute_result"
    }
   ],
   "source": [
    "df = pd.read_pickle(DATA_PATH)\n",
    "df.head(2)"
   ]
  },
  {
   "cell_type": "code",
   "execution_count": 5,
   "id": "5caa41db-61aa-4eaf-b58e-4b3e7ea655cb",
   "metadata": {
    "tags": []
   },
   "outputs": [],
   "source": [
    "encoded_dfs = {}\n",
    "for col in TECH_COLS + ROLE_COLS :\n",
    "    mlb = MultiLabelBinarizer()\n",
    "    encoded_df = pd.DataFrame(mlb.fit_transform(df[col]), columns = mlb.classes_, index=df[col].index)\n",
    "    encoded_dfs[col] = encoded_df\n",
    "# Merging \n",
    "ohe_df = pd.concat(encoded_dfs, axis=1)\n",
    "# this is apperviations for this :\n",
    "#x = pd.concat(encoded_dfs.values(), axis=1, keys=encoded_dfs.keys())\n"
   ]
  },
  {
   "cell_type": "code",
   "execution_count": 19,
   "id": "e95f523f-6ebc-40a1-ab09-700fb4f47abd",
   "metadata": {},
   "outputs": [],
   "source": [
    "ohe_df = ohe_df.drop('', axis=1, level=1)\n"
   ]
  },
  {
   "cell_type": "markdown",
   "id": "16c14f6d-0235-462d-97b0-83a01b61537d",
   "metadata": {},
   "source": [
    "### Applying T-SNE For Easy Visualization"
   ]
  },
  {
   "cell_type": "code",
   "execution_count": 20,
   "id": "a8ac33bd-965a-4408-bc82-787c21c55db4",
   "metadata": {},
   "outputs": [
    {
     "name": "stderr",
     "output_type": "stream",
     "text": [
      "C:\\Users\\Mohamed Gad\\anaconda3\\lib\\site-packages\\sklearn\\utils\\validation.py:1688: FutureWarning:\n",
      "\n",
      "Feature names only support names that are all strings. Got feature names with dtypes: ['tuple']. An error will be raised in 1.2.\n",
      "\n",
      "C:\\Users\\Mohamed Gad\\anaconda3\\lib\\site-packages\\sklearn\\utils\\validation.py:1688: FutureWarning:\n",
      "\n",
      "Feature names only support names that are all strings. Got feature names with dtypes: ['tuple']. An error will be raised in 1.2.\n",
      "\n"
     ]
    }
   ],
   "source": [
    "skills = ohe_df.drop('DevType', axis=1).copy()\n",
    "std_skills = StandardScaler().fit_transform(skills)"
   ]
  },
  {
   "cell_type": "code",
   "execution_count": 21,
   "id": "af61b752-8f48-43f4-8e8c-60933afe8c04",
   "metadata": {},
   "outputs": [
    {
     "name": "stderr",
     "output_type": "stream",
     "text": [
      "C:\\Users\\Mohamed Gad\\anaconda3\\lib\\site-packages\\sklearn\\manifold\\_t_sne.py:982: FutureWarning:\n",
      "\n",
      "The PCA initialization in TSNE will change to have the standard deviation of PC1 equal to 1e-4 in 1.2. This will ensure better convergence.\n",
      "\n"
     ]
    }
   ],
   "source": [
    "tsne_projection = TSNE(n_components=2, \n",
    "                       perplexity=3,\n",
    "                       learning_rate=0.01,\n",
    "                       init='pca', \n",
    "                       method='barnes_hut', \n",
    "                       n_jobs=2, \n",
    "                       n_iter=10**10,\n",
    "                       random_state=0).fit_transform(std_skills.T)\n",
    "\n",
    "tsne_projection = pd.DataFrame(tsne_projection, index=skills.columns)"
   ]
  },
  {
   "cell_type": "code",
   "execution_count": 27,
   "id": "488fd3cd-cd98-40fe-8f2e-da8aa7baa7be",
   "metadata": {},
   "outputs": [
    {
     "data": {
      "application/vnd.plotly.v1+json": {
       "config": {
        "plotlyServerURL": "https://plot.ly"
       },
       "data": [
        {
         "hovertemplate": "x=%{x}<br>y=%{y}<br>text=%{text}<extra></extra>",
         "legendgroup": "",
         "marker": {
          "color": "#636efa",
          "symbol": "circle"
         },
         "mode": "markers+text",
         "name": "",
         "orientation": "v",
         "showlegend": false,
         "text": [
          "Cassandra",
          "Couchbase",
          "DynamoDB",
          "Elasticsearch",
          "Firebase",
          "IBM DB2",
          "MariaDB",
          "Microsoft SQL Server",
          "MongoDB",
          "MySQL",
          "Oracle",
          "PostgreSQL",
          "Redis",
          "SQLite",
          "Assembly",
          "Bash/Shell/PowerShell",
          "C",
          "C#",
          "C++",
          "Dart",
          "Go",
          "HTML/CSS",
          "Haskell",
          "Java",
          "JavaScript",
          "Julia",
          "Kotlin",
          "Objective-C",
          "PHP",
          "Perl",
          "Python",
          "R",
          "Ruby",
          "Rust",
          "SQL",
          "Scala",
          "Swift",
          "TypeScript",
          "VBA",
          ".NET",
          ".NET Core",
          "Ansible",
          "Apache Spark",
          "Chef",
          "Cordova",
          "Flutter",
          "Hadoop",
          "Keras",
          "Node.js",
          "Pandas",
          "Puppet",
          "React Native",
          "TensorFlow",
          "Teraform",
          "Torch/PyTorch",
          "Unity 3D",
          "Unreal Engine",
          "Xamarin",
          "ASP.NET",
          "ASP.NET Core",
          "Angular",
          "Angular.js",
          "Django",
          "Drupal",
          "Express",
          "Flask",
          "Gatsby",
          "Laravel",
          "React.js",
          "Ruby on Rails",
          "Spring",
          "Symfony",
          "Vue.js",
          "jQuery"
         ],
         "textposition": "top center",
         "type": "scatter",
         "x": [
          -55.25766372680664,
          -53.6472053527832,
          -70.26839447021484,
          -61.24079895019531,
          9.61460018157959,
          44.57552719116211,
          22.02064323425293,
          136.28468322753906,
          41.05678176879883,
          17.0286922454834,
          40.72705841064453,
          -55.363765716552734,
          -59.65304946899414,
          17.89436149597168,
          -31.001089096069336,
          -55.635704040527344,
          -26.04831314086914,
          135.22140502929688,
          -22.472063064575195,
          16.1767635345459,
          -67.47603607177734,
          39.46306228637695,
          -48.97085189819336,
          35.67299270629883,
          38.693946838378906,
          -56.49710464477539,
          29.681446075439453,
          3.2577879428863525,
          15.439003944396973,
          -50.07893371582031,
          -63.17787170410156,
          -64.24031829833984,
          -52.420413970947266,
          -45.24095916748047,
          39.95088195800781,
          -55.809078216552734,
          5.419839859008789,
          63.60856246948242,
          135.97750854492188,
          136.1992950439453,
          128.58517456054688,
          -78.181884765625,
          -56.9474983215332,
          -87.74405670166016,
          69.32975769042969,
          13.82574462890625,
          -59.61155700683594,
          -75.79938507080078,
          32.66353225708008,
          -69.1552963256836,
          -90.77434539794922,
          22.315044403076172,
          -75.37957000732422,
          -74.53709411621094,
          -79.95145416259766,
          3.9953861236572266,
          0.45772624015808105,
          132.73800659179688,
          140.36065673828125,
          125.58995056152344,
          67.20915985107422,
          71.9925537109375,
          -65.87092590332031,
          12.88479995727539,
          36.239376068115234,
          -68.14960479736328,
          25.51860237121582,
          10.407684326171875,
          26.685062408447266,
          -49.9861946105957,
          38.82352828979492,
          15.6423921585083,
          3.390184164047241,
          33.222312927246094
         ],
         "xaxis": "x",
         "y": [
          -6.8222761154174805,
          -1.5973502397537231,
          12.856485366821289,
          14.681184768676758,
          16.048233032226562,
          -9.315958023071289,
          57.82602310180664,
          -58.881595611572266,
          99.63591766357422,
          52.57814025878906,
          -5.463459491729736,
          21.044349670410156,
          18.250652313232422,
          46.150970458984375,
          -66.35161590576172,
          -53.96868896484375,
          -65.8653335571289,
          -70.2307357788086,
          -66.31079864501953,
          10.346293449401855,
          22.976491928100586,
          69.80844116210938,
          -79.63623809814453,
          -0.6141236424446106,
          73.42740631103516,
          -77.31063079833984,
          0.4925466775894165,
          -11.325638771057129,
          57.295562744140625,
          -53.05238342285156,
          -54.91325378417969,
          -71.34780883789062,
          41.06531524658203,
          -80.9570083618164,
          63.43360900878906,
          -13.416102409362793,
          -8.528461456298828,
          75.00479125976562,
          -53.25108337402344,
          -66.30477905273438,
          -73.5776596069336,
          19.1781063079834,
          -18.410551071166992,
          24.033830642700195,
          67.71954345703125,
          12.982169151306152,
          -20.806447982788086,
          -67.45585632324219,
          96.05860137939453,
          -67.27632141113281,
          21.85826873779297,
          95.3498306274414,
          -71.08589935302734,
          18.29465103149414,
          -73.72352600097656,
          -78.18045043945312,
          -77.69800567626953,
          -78.93714904785156,
          -64.29735565185547,
          -71.10431671142578,
          73.58216094970703,
          75.72022247314453,
          -49.75138473510742,
          69.09697723388672,
          97.43155670166016,
          -54.77541732788086,
          104.17125701904297,
          57.49843978881836,
          98.17752075195312,
          43.61394500732422,
          1.2689709663391113,
          63.85486602783203,
          58.599815368652344,
          74.22615051269531
         ],
         "yaxis": "y"
        }
       ],
       "layout": {
        "height": 800,
        "legend": {
         "tracegroupgap": 0
        },
        "margin": {
         "t": 60
        },
        "template": {
         "data": {
          "bar": [
           {
            "error_x": {
             "color": "#2a3f5f"
            },
            "error_y": {
             "color": "#2a3f5f"
            },
            "marker": {
             "line": {
              "color": "#E5ECF6",
              "width": 0.5
             },
             "pattern": {
              "fillmode": "overlay",
              "size": 10,
              "solidity": 0.2
             }
            },
            "type": "bar"
           }
          ],
          "barpolar": [
           {
            "marker": {
             "line": {
              "color": "#E5ECF6",
              "width": 0.5
             },
             "pattern": {
              "fillmode": "overlay",
              "size": 10,
              "solidity": 0.2
             }
            },
            "type": "barpolar"
           }
          ],
          "carpet": [
           {
            "aaxis": {
             "endlinecolor": "#2a3f5f",
             "gridcolor": "white",
             "linecolor": "white",
             "minorgridcolor": "white",
             "startlinecolor": "#2a3f5f"
            },
            "baxis": {
             "endlinecolor": "#2a3f5f",
             "gridcolor": "white",
             "linecolor": "white",
             "minorgridcolor": "white",
             "startlinecolor": "#2a3f5f"
            },
            "type": "carpet"
           }
          ],
          "choropleth": [
           {
            "colorbar": {
             "outlinewidth": 0,
             "ticks": ""
            },
            "type": "choropleth"
           }
          ],
          "contour": [
           {
            "colorbar": {
             "outlinewidth": 0,
             "ticks": ""
            },
            "colorscale": [
             [
              0,
              "#0d0887"
             ],
             [
              0.1111111111111111,
              "#46039f"
             ],
             [
              0.2222222222222222,
              "#7201a8"
             ],
             [
              0.3333333333333333,
              "#9c179e"
             ],
             [
              0.4444444444444444,
              "#bd3786"
             ],
             [
              0.5555555555555556,
              "#d8576b"
             ],
             [
              0.6666666666666666,
              "#ed7953"
             ],
             [
              0.7777777777777778,
              "#fb9f3a"
             ],
             [
              0.8888888888888888,
              "#fdca26"
             ],
             [
              1,
              "#f0f921"
             ]
            ],
            "type": "contour"
           }
          ],
          "contourcarpet": [
           {
            "colorbar": {
             "outlinewidth": 0,
             "ticks": ""
            },
            "type": "contourcarpet"
           }
          ],
          "heatmap": [
           {
            "colorbar": {
             "outlinewidth": 0,
             "ticks": ""
            },
            "colorscale": [
             [
              0,
              "#0d0887"
             ],
             [
              0.1111111111111111,
              "#46039f"
             ],
             [
              0.2222222222222222,
              "#7201a8"
             ],
             [
              0.3333333333333333,
              "#9c179e"
             ],
             [
              0.4444444444444444,
              "#bd3786"
             ],
             [
              0.5555555555555556,
              "#d8576b"
             ],
             [
              0.6666666666666666,
              "#ed7953"
             ],
             [
              0.7777777777777778,
              "#fb9f3a"
             ],
             [
              0.8888888888888888,
              "#fdca26"
             ],
             [
              1,
              "#f0f921"
             ]
            ],
            "type": "heatmap"
           }
          ],
          "heatmapgl": [
           {
            "colorbar": {
             "outlinewidth": 0,
             "ticks": ""
            },
            "colorscale": [
             [
              0,
              "#0d0887"
             ],
             [
              0.1111111111111111,
              "#46039f"
             ],
             [
              0.2222222222222222,
              "#7201a8"
             ],
             [
              0.3333333333333333,
              "#9c179e"
             ],
             [
              0.4444444444444444,
              "#bd3786"
             ],
             [
              0.5555555555555556,
              "#d8576b"
             ],
             [
              0.6666666666666666,
              "#ed7953"
             ],
             [
              0.7777777777777778,
              "#fb9f3a"
             ],
             [
              0.8888888888888888,
              "#fdca26"
             ],
             [
              1,
              "#f0f921"
             ]
            ],
            "type": "heatmapgl"
           }
          ],
          "histogram": [
           {
            "marker": {
             "pattern": {
              "fillmode": "overlay",
              "size": 10,
              "solidity": 0.2
             }
            },
            "type": "histogram"
           }
          ],
          "histogram2d": [
           {
            "colorbar": {
             "outlinewidth": 0,
             "ticks": ""
            },
            "colorscale": [
             [
              0,
              "#0d0887"
             ],
             [
              0.1111111111111111,
              "#46039f"
             ],
             [
              0.2222222222222222,
              "#7201a8"
             ],
             [
              0.3333333333333333,
              "#9c179e"
             ],
             [
              0.4444444444444444,
              "#bd3786"
             ],
             [
              0.5555555555555556,
              "#d8576b"
             ],
             [
              0.6666666666666666,
              "#ed7953"
             ],
             [
              0.7777777777777778,
              "#fb9f3a"
             ],
             [
              0.8888888888888888,
              "#fdca26"
             ],
             [
              1,
              "#f0f921"
             ]
            ],
            "type": "histogram2d"
           }
          ],
          "histogram2dcontour": [
           {
            "colorbar": {
             "outlinewidth": 0,
             "ticks": ""
            },
            "colorscale": [
             [
              0,
              "#0d0887"
             ],
             [
              0.1111111111111111,
              "#46039f"
             ],
             [
              0.2222222222222222,
              "#7201a8"
             ],
             [
              0.3333333333333333,
              "#9c179e"
             ],
             [
              0.4444444444444444,
              "#bd3786"
             ],
             [
              0.5555555555555556,
              "#d8576b"
             ],
             [
              0.6666666666666666,
              "#ed7953"
             ],
             [
              0.7777777777777778,
              "#fb9f3a"
             ],
             [
              0.8888888888888888,
              "#fdca26"
             ],
             [
              1,
              "#f0f921"
             ]
            ],
            "type": "histogram2dcontour"
           }
          ],
          "mesh3d": [
           {
            "colorbar": {
             "outlinewidth": 0,
             "ticks": ""
            },
            "type": "mesh3d"
           }
          ],
          "parcoords": [
           {
            "line": {
             "colorbar": {
              "outlinewidth": 0,
              "ticks": ""
             }
            },
            "type": "parcoords"
           }
          ],
          "pie": [
           {
            "automargin": true,
            "type": "pie"
           }
          ],
          "scatter": [
           {
            "fillpattern": {
             "fillmode": "overlay",
             "size": 10,
             "solidity": 0.2
            },
            "type": "scatter"
           }
          ],
          "scatter3d": [
           {
            "line": {
             "colorbar": {
              "outlinewidth": 0,
              "ticks": ""
             }
            },
            "marker": {
             "colorbar": {
              "outlinewidth": 0,
              "ticks": ""
             }
            },
            "type": "scatter3d"
           }
          ],
          "scattercarpet": [
           {
            "marker": {
             "colorbar": {
              "outlinewidth": 0,
              "ticks": ""
             }
            },
            "type": "scattercarpet"
           }
          ],
          "scattergeo": [
           {
            "marker": {
             "colorbar": {
              "outlinewidth": 0,
              "ticks": ""
             }
            },
            "type": "scattergeo"
           }
          ],
          "scattergl": [
           {
            "marker": {
             "colorbar": {
              "outlinewidth": 0,
              "ticks": ""
             }
            },
            "type": "scattergl"
           }
          ],
          "scattermapbox": [
           {
            "marker": {
             "colorbar": {
              "outlinewidth": 0,
              "ticks": ""
             }
            },
            "type": "scattermapbox"
           }
          ],
          "scatterpolar": [
           {
            "marker": {
             "colorbar": {
              "outlinewidth": 0,
              "ticks": ""
             }
            },
            "type": "scatterpolar"
           }
          ],
          "scatterpolargl": [
           {
            "marker": {
             "colorbar": {
              "outlinewidth": 0,
              "ticks": ""
             }
            },
            "type": "scatterpolargl"
           }
          ],
          "scatterternary": [
           {
            "marker": {
             "colorbar": {
              "outlinewidth": 0,
              "ticks": ""
             }
            },
            "type": "scatterternary"
           }
          ],
          "surface": [
           {
            "colorbar": {
             "outlinewidth": 0,
             "ticks": ""
            },
            "colorscale": [
             [
              0,
              "#0d0887"
             ],
             [
              0.1111111111111111,
              "#46039f"
             ],
             [
              0.2222222222222222,
              "#7201a8"
             ],
             [
              0.3333333333333333,
              "#9c179e"
             ],
             [
              0.4444444444444444,
              "#bd3786"
             ],
             [
              0.5555555555555556,
              "#d8576b"
             ],
             [
              0.6666666666666666,
              "#ed7953"
             ],
             [
              0.7777777777777778,
              "#fb9f3a"
             ],
             [
              0.8888888888888888,
              "#fdca26"
             ],
             [
              1,
              "#f0f921"
             ]
            ],
            "type": "surface"
           }
          ],
          "table": [
           {
            "cells": {
             "fill": {
              "color": "#EBF0F8"
             },
             "line": {
              "color": "white"
             }
            },
            "header": {
             "fill": {
              "color": "#C8D4E3"
             },
             "line": {
              "color": "white"
             }
            },
            "type": "table"
           }
          ]
         },
         "layout": {
          "annotationdefaults": {
           "arrowcolor": "#2a3f5f",
           "arrowhead": 0,
           "arrowwidth": 1
          },
          "autotypenumbers": "strict",
          "coloraxis": {
           "colorbar": {
            "outlinewidth": 0,
            "ticks": ""
           }
          },
          "colorscale": {
           "diverging": [
            [
             0,
             "#8e0152"
            ],
            [
             0.1,
             "#c51b7d"
            ],
            [
             0.2,
             "#de77ae"
            ],
            [
             0.3,
             "#f1b6da"
            ],
            [
             0.4,
             "#fde0ef"
            ],
            [
             0.5,
             "#f7f7f7"
            ],
            [
             0.6,
             "#e6f5d0"
            ],
            [
             0.7,
             "#b8e186"
            ],
            [
             0.8,
             "#7fbc41"
            ],
            [
             0.9,
             "#4d9221"
            ],
            [
             1,
             "#276419"
            ]
           ],
           "sequential": [
            [
             0,
             "#0d0887"
            ],
            [
             0.1111111111111111,
             "#46039f"
            ],
            [
             0.2222222222222222,
             "#7201a8"
            ],
            [
             0.3333333333333333,
             "#9c179e"
            ],
            [
             0.4444444444444444,
             "#bd3786"
            ],
            [
             0.5555555555555556,
             "#d8576b"
            ],
            [
             0.6666666666666666,
             "#ed7953"
            ],
            [
             0.7777777777777778,
             "#fb9f3a"
            ],
            [
             0.8888888888888888,
             "#fdca26"
            ],
            [
             1,
             "#f0f921"
            ]
           ],
           "sequentialminus": [
            [
             0,
             "#0d0887"
            ],
            [
             0.1111111111111111,
             "#46039f"
            ],
            [
             0.2222222222222222,
             "#7201a8"
            ],
            [
             0.3333333333333333,
             "#9c179e"
            ],
            [
             0.4444444444444444,
             "#bd3786"
            ],
            [
             0.5555555555555556,
             "#d8576b"
            ],
            [
             0.6666666666666666,
             "#ed7953"
            ],
            [
             0.7777777777777778,
             "#fb9f3a"
            ],
            [
             0.8888888888888888,
             "#fdca26"
            ],
            [
             1,
             "#f0f921"
            ]
           ]
          },
          "colorway": [
           "#636efa",
           "#EF553B",
           "#00cc96",
           "#ab63fa",
           "#FFA15A",
           "#19d3f3",
           "#FF6692",
           "#B6E880",
           "#FF97FF",
           "#FECB52"
          ],
          "font": {
           "color": "#2a3f5f"
          },
          "geo": {
           "bgcolor": "white",
           "lakecolor": "white",
           "landcolor": "#E5ECF6",
           "showlakes": true,
           "showland": true,
           "subunitcolor": "white"
          },
          "hoverlabel": {
           "align": "left"
          },
          "hovermode": "closest",
          "mapbox": {
           "style": "light"
          },
          "paper_bgcolor": "white",
          "plot_bgcolor": "#E5ECF6",
          "polar": {
           "angularaxis": {
            "gridcolor": "white",
            "linecolor": "white",
            "ticks": ""
           },
           "bgcolor": "#E5ECF6",
           "radialaxis": {
            "gridcolor": "white",
            "linecolor": "white",
            "ticks": ""
           }
          },
          "scene": {
           "xaxis": {
            "backgroundcolor": "#E5ECF6",
            "gridcolor": "white",
            "gridwidth": 2,
            "linecolor": "white",
            "showbackground": true,
            "ticks": "",
            "zerolinecolor": "white"
           },
           "yaxis": {
            "backgroundcolor": "#E5ECF6",
            "gridcolor": "white",
            "gridwidth": 2,
            "linecolor": "white",
            "showbackground": true,
            "ticks": "",
            "zerolinecolor": "white"
           },
           "zaxis": {
            "backgroundcolor": "#E5ECF6",
            "gridcolor": "white",
            "gridwidth": 2,
            "linecolor": "white",
            "showbackground": true,
            "ticks": "",
            "zerolinecolor": "white"
           }
          },
          "shapedefaults": {
           "line": {
            "color": "#2a3f5f"
           }
          },
          "ternary": {
           "aaxis": {
            "gridcolor": "white",
            "linecolor": "white",
            "ticks": ""
           },
           "baxis": {
            "gridcolor": "white",
            "linecolor": "white",
            "ticks": ""
           },
           "bgcolor": "#E5ECF6",
           "caxis": {
            "gridcolor": "white",
            "linecolor": "white",
            "ticks": ""
           }
          },
          "title": {
           "x": 0.05
          },
          "xaxis": {
           "automargin": true,
           "gridcolor": "white",
           "linecolor": "white",
           "ticks": "",
           "title": {
            "standoff": 15
           },
           "zerolinecolor": "white",
           "zerolinewidth": 2
          },
          "yaxis": {
           "automargin": true,
           "gridcolor": "white",
           "linecolor": "white",
           "ticks": "",
           "title": {
            "standoff": 15
           },
           "zerolinecolor": "white",
           "zerolinewidth": 2
          }
         }
        },
        "title": {
         "text": "TNSE"
        },
        "width": 800,
        "xaxis": {
         "anchor": "y",
         "autorange": true,
         "domain": [
          0,
          1
         ],
         "range": [
          -105.3092202024703,
          154.89553154280233
         ],
         "title": {
          "text": "x"
         },
         "type": "linear"
        },
        "yaxis": {
         "anchor": "x",
         "autorange": true,
         "domain": [
          0,
          1
         ],
         "range": [
          -92.55711706215159,
          115.77136571937815
         ],
         "title": {
          "text": "y"
         },
         "type": "linear"
        }
       }
      },
      "image/png": "[encoded data removed]",
      "text/html": [
       "<div>                            <div id=\"bbaf56cc-e7e3-4d5f-aab2-dc5c50339bf9\" class=\"plotly-graph-div\" style=\"height:800px; width:800px;\"></div>            <script type=\"text/javascript\">                require([\"plotly\"], function(Plotly) {                    window.PLOTLYENV=window.PLOTLYENV || {};                                    if (document.getElementById(\"bbaf56cc-e7e3-4d5f-aab2-dc5c50339bf9\")) {                    Plotly.newPlot(                        \"bbaf56cc-e7e3-4d5f-aab2-dc5c50339bf9\",                        [{\"hovertemplate\":\"x=%{x}<br>y=%{y}<br>text=%{text}<extra></extra>\",\"legendgroup\":\"\",\"marker\":{\"color\":\"#636efa\",\"symbol\":\"circle\"},\"mode\":\"markers+text\",\"name\":\"\",\"orientation\":\"v\",\"showlegend\":false,\"text\":[\"Cassandra\",\"Couchbase\",\"DynamoDB\",\"Elasticsearch\",\"Firebase\",\"IBM DB2\",\"MariaDB\",\"Microsoft SQL Server\",\"MongoDB\",\"MySQL\",\"Oracle\",\"PostgreSQL\",\"Redis\",\"SQLite\",\"Assembly\",\"Bash/Shell/PowerShell\",\"C\",\"C#\",\"C++\",\"Dart\",\"Go\",\"HTML/CSS\",\"Haskell\",\"Java\",\"JavaScript\",\"Julia\",\"Kotlin\",\"Objective-C\",\"PHP\",\"Perl\",\"Python\",\"R\",\"Ruby\",\"Rust\",\"SQL\",\"Scala\",\"Swift\",\"TypeScript\",\"VBA\",\".NET\",\".NET Core\",\"Ansible\",\"Apache Spark\",\"Chef\",\"Cordova\",\"Flutter\",\"Hadoop\",\"Keras\",\"Node.js\",\"Pandas\",\"Puppet\",\"React Native\",\"TensorFlow\",\"Teraform\",\"Torch/PyTorch\",\"Unity 3D\",\"Unreal Engine\",\"Xamarin\",\"ASP.NET\",\"ASP.NET Core\",\"Angular\",\"Angular.js\",\"Django\",\"Drupal\",\"Express\",\"Flask\",\"Gatsby\",\"Laravel\",\"React.js\",\"Ruby on Rails\",\"Spring\",\"Symfony\",\"Vue.js\",\"jQuery\"],\"x\":[-55.25766372680664,-53.6472053527832,-70.26839447021484,-61.24079895019531,9.61460018157959,44.57552719116211,22.02064323425293,136.28468322753906,41.05678176879883,17.0286922454834,40.72705841064453,-55.363765716552734,-59.65304946899414,17.89436149597168,-31.001089096069336,-55.635704040527344,-26.04831314086914,135.22140502929688,-22.472063064575195,16.1767635345459,-67.47603607177734,39.46306228637695,-48.97085189819336,35.67299270629883,38.693946838378906,-56.49710464477539,29.681446075439453,3.2577879428863525,15.439003944396973,-50.07893371582031,-63.17787170410156,-64.24031829833984,-52.420413970947266,-45.24095916748047,39.95088195800781,-55.809078216552734,5.419839859008789,63.60856246948242,135.97750854492188,136.1992950439453,128.58517456054688,-78.181884765625,-56.9474983215332,-87.74405670166016,69.32975769042969,13.82574462890625,-59.61155700683594,-75.79938507080078,32.66353225708008,-69.1552963256836,-90.77434539794922,22.315044403076172,-75.37957000732422,-74.53709411621094,-79.95145416259766,3.9953861236572266,0.45772624015808105,132.73800659179688,140.36065673828125,125.58995056152344,67.20915985107422,71.9925537109375,-65.87092590332031,12.88479995727539,36.239376068115234,-68.14960479736328,25.51860237121582,10.407684326171875,26.685062408447266,-49.9861946105957,38.82352828979492,15.6423921585083,3.390184164047241,33.222312927246094],\"xaxis\":\"x\",\"y\":[-6.8222761154174805,-1.5973502397537231,12.856485366821289,14.681184768676758,16.048233032226562,-9.315958023071289,57.82602310180664,-58.881595611572266,99.63591766357422,52.57814025878906,-5.463459491729736,21.044349670410156,18.250652313232422,46.150970458984375,-66.35161590576172,-53.96868896484375,-65.8653335571289,-70.2307357788086,-66.31079864501953,10.346293449401855,22.976491928100586,69.80844116210938,-79.63623809814453,-0.6141236424446106,73.42740631103516,-77.31063079833984,0.4925466775894165,-11.325638771057129,57.295562744140625,-53.05238342285156,-54.91325378417969,-71.34780883789062,41.06531524658203,-80.9570083618164,63.43360900878906,-13.416102409362793,-8.528461456298828,75.00479125976562,-53.25108337402344,-66.30477905273438,-73.5776596069336,19.1781063079834,-18.410551071166992,24.033830642700195,67.71954345703125,12.982169151306152,-20.806447982788086,-67.45585632324219,96.05860137939453,-67.27632141113281,21.85826873779297,95.3498306274414,-71.08589935302734,18.29465103149414,-73.72352600097656,-78.18045043945312,-77.69800567626953,-78.93714904785156,-64.29735565185547,-71.10431671142578,73.58216094970703,75.72022247314453,-49.75138473510742,69.09697723388672,97.43155670166016,-54.77541732788086,104.17125701904297,57.49843978881836,98.17752075195312,43.61394500732422,1.2689709663391113,63.85486602783203,58.599815368652344,74.22615051269531],\"yaxis\":\"y\",\"type\":\"scatter\",\"textposition\":\"top center\"}],                        {\"template\":{\"data\":{\"histogram2dcontour\":[{\"type\":\"histogram2dcontour\",\"colorbar\":{\"outlinewidth\":0,\"ticks\":\"\"},\"colorscale\":[[0.0,\"#0d0887\"],[0.1111111111111111,\"#46039f\"],[0.2222222222222222,\"#7201a8\"],[0.3333333333333333,\"#9c179e\"],[0.4444444444444444,\"#bd3786\"],[0.5555555555555556,\"#d8576b\"],[0.6666666666666666,\"#ed7953\"],[0.7777777777777778,\"#fb9f3a\"],[0.8888888888888888,\"#fdca26\"],[1.0,\"#f0f921\"]]}],\"choropleth\":[{\"type\":\"choropleth\",\"colorbar\":{\"outlinewidth\":0,\"ticks\":\"\"}}],\"histogram2d\":[{\"type\":\"histogram2d\",\"colorbar\":{\"outlinewidth\":0,\"ticks\":\"\"},\"colorscale\":[[0.0,\"#0d0887\"],[0.1111111111111111,\"#46039f\"],[0.2222222222222222,\"#7201a8\"],[0.3333333333333333,\"#9c179e\"],[0.4444444444444444,\"#bd3786\"],[0.5555555555555556,\"#d8576b\"],[0.6666666666666666,\"#ed7953\"],[0.7777777777777778,\"#fb9f3a\"],[0.8888888888888888,\"#fdca26\"],[1.0,\"#f0f921\"]]}],\"heatmap\":[{\"type\":\"heatmap\",\"colorbar\":{\"outlinewidth\":0,\"ticks\":\"\"},\"colorscale\":[[0.0,\"#0d0887\"],[0.1111111111111111,\"#46039f\"],[0.2222222222222222,\"#7201a8\"],[0.3333333333333333,\"#9c179e\"],[0.4444444444444444,\"#bd3786\"],[0.5555555555555556,\"#d8576b\"],[0.6666666666666666,\"#ed7953\"],[0.7777777777777778,\"#fb9f3a\"],[0.8888888888888888,\"#fdca26\"],[1.0,\"#f0f921\"]]}],\"heatmapgl\":[{\"type\":\"heatmapgl\",\"colorbar\":{\"outlinewidth\":0,\"ticks\":\"\"},\"colorscale\":[[0.0,\"#0d0887\"],[0.1111111111111111,\"#46039f\"],[0.2222222222222222,\"#7201a8\"],[0.3333333333333333,\"#9c179e\"],[0.4444444444444444,\"#bd3786\"],[0.5555555555555556,\"#d8576b\"],[0.6666666666666666,\"#ed7953\"],[0.7777777777777778,\"#fb9f3a\"],[0.8888888888888888,\"#fdca26\"],[1.0,\"#f0f921\"]]}],\"contourcarpet\":[{\"type\":\"contourcarpet\",\"colorbar\":{\"outlinewidth\":0,\"ticks\":\"\"}}],\"contour\":[{\"type\":\"contour\",\"colorbar\":{\"outlinewidth\":0,\"ticks\":\"\"},\"colorscale\":[[0.0,\"#0d0887\"],[0.1111111111111111,\"#46039f\"],[0.2222222222222222,\"#7201a8\"],[0.3333333333333333,\"#9c179e\"],[0.4444444444444444,\"#bd3786\"],[0.5555555555555556,\"#d8576b\"],[0.6666666666666666,\"#ed7953\"],[0.7777777777777778,\"#fb9f3a\"],[0.8888888888888888,\"#fdca26\"],[1.0,\"#f0f921\"]]}],\"surface\":[{\"type\":\"surface\",\"colorbar\":{\"outlinewidth\":0,\"ticks\":\"\"},\"colorscale\":[[0.0,\"#0d0887\"],[0.1111111111111111,\"#46039f\"],[0.2222222222222222,\"#7201a8\"],[0.3333333333333333,\"#9c179e\"],[0.4444444444444444,\"#bd3786\"],[0.5555555555555556,\"#d8576b\"],[0.6666666666666666,\"#ed7953\"],[0.7777777777777778,\"#fb9f3a\"],[0.8888888888888888,\"#fdca26\"],[1.0,\"#f0f921\"]]}],\"mesh3d\":[{\"type\":\"mesh3d\",\"colorbar\":{\"outlinewidth\":0,\"ticks\":\"\"}}],\"scatter\":[{\"fillpattern\":{\"fillmode\":\"overlay\",\"size\":10,\"solidity\":0.2},\"type\":\"scatter\"}],\"parcoords\":[{\"type\":\"parcoords\",\"line\":{\"colorbar\":{\"outlinewidth\":0,\"ticks\":\"\"}}}],\"scatterpolargl\":[{\"type\":\"scatterpolargl\",\"marker\":{\"colorbar\":{\"outlinewidth\":0,\"ticks\":\"\"}}}],\"bar\":[{\"error_x\":{\"color\":\"#2a3f5f\"},\"error_y\":{\"color\":\"#2a3f5f\"},\"marker\":{\"line\":{\"color\":\"#E5ECF6\",\"width\":0.5},\"pattern\":{\"fillmode\":\"overlay\",\"size\":10,\"solidity\":0.2}},\"type\":\"bar\"}],\"scattergeo\":[{\"type\":\"scattergeo\",\"marker\":{\"colorbar\":{\"outlinewidth\":0,\"ticks\":\"\"}}}],\"scatterpolar\":[{\"type\":\"scatterpolar\",\"marker\":{\"colorbar\":{\"outlinewidth\":0,\"ticks\":\"\"}}}],\"histogram\":[{\"marker\":{\"pattern\":{\"fillmode\":\"overlay\",\"size\":10,\"solidity\":0.2}},\"type\":\"histogram\"}],\"scattergl\":[{\"type\":\"scattergl\",\"marker\":{\"colorbar\":{\"outlinewidth\":0,\"ticks\":\"\"}}}],\"scatter3d\":[{\"type\":\"scatter3d\",\"line\":{\"colorbar\":{\"outlinewidth\":0,\"ticks\":\"\"}},\"marker\":{\"colorbar\":{\"outlinewidth\":0,\"ticks\":\"\"}}}],\"scattermapbox\":[{\"type\":\"scattermapbox\",\"marker\":{\"colorbar\":{\"outlinewidth\":0,\"ticks\":\"\"}}}],\"scatterternary\":[{\"type\":\"scatterternary\",\"marker\":{\"colorbar\":{\"outlinewidth\":0,\"ticks\":\"\"}}}],\"scattercarpet\":[{\"type\":\"scattercarpet\",\"marker\":{\"colorbar\":{\"outlinewidth\":0,\"ticks\":\"\"}}}],\"carpet\":[{\"aaxis\":{\"endlinecolor\":\"#2a3f5f\",\"gridcolor\":\"white\",\"linecolor\":\"white\",\"minorgridcolor\":\"white\",\"startlinecolor\":\"#2a3f5f\"},\"baxis\":{\"endlinecolor\":\"#2a3f5f\",\"gridcolor\":\"white\",\"linecolor\":\"white\",\"minorgridcolor\":\"white\",\"startlinecolor\":\"#2a3f5f\"},\"type\":\"carpet\"}],\"table\":[{\"cells\":{\"fill\":{\"color\":\"#EBF0F8\"},\"line\":{\"color\":\"white\"}},\"header\":{\"fill\":{\"color\":\"#C8D4E3\"},\"line\":{\"color\":\"white\"}},\"type\":\"table\"}],\"barpolar\":[{\"marker\":{\"line\":{\"color\":\"#E5ECF6\",\"width\":0.5},\"pattern\":{\"fillmode\":\"overlay\",\"size\":10,\"solidity\":0.2}},\"type\":\"barpolar\"}],\"pie\":[{\"automargin\":true,\"type\":\"pie\"}]},\"layout\":{\"autotypenumbers\":\"strict\",\"colorway\":[\"#636efa\",\"#EF553B\",\"#00cc96\",\"#ab63fa\",\"#FFA15A\",\"#19d3f3\",\"#FF6692\",\"#B6E880\",\"#FF97FF\",\"#FECB52\"],\"font\":{\"color\":\"#2a3f5f\"},\"hovermode\":\"closest\",\"hoverlabel\":{\"align\":\"left\"},\"paper_bgcolor\":\"white\",\"plot_bgcolor\":\"#E5ECF6\",\"polar\":{\"bgcolor\":\"#E5ECF6\",\"angularaxis\":{\"gridcolor\":\"white\",\"linecolor\":\"white\",\"ticks\":\"\"},\"radialaxis\":{\"gridcolor\":\"white\",\"linecolor\":\"white\",\"ticks\":\"\"}},\"ternary\":{\"bgcolor\":\"#E5ECF6\",\"aaxis\":{\"gridcolor\":\"white\",\"linecolor\":\"white\",\"ticks\":\"\"},\"baxis\":{\"gridcolor\":\"white\",\"linecolor\":\"white\",\"ticks\":\"\"},\"caxis\":{\"gridcolor\":\"white\",\"linecolor\":\"white\",\"ticks\":\"\"}},\"coloraxis\":{\"colorbar\":{\"outlinewidth\":0,\"ticks\":\"\"}},\"colorscale\":{\"sequential\":[[0.0,\"#0d0887\"],[0.1111111111111111,\"#46039f\"],[0.2222222222222222,\"#7201a8\"],[0.3333333333333333,\"#9c179e\"],[0.4444444444444444,\"#bd3786\"],[0.5555555555555556,\"#d8576b\"],[0.6666666666666666,\"#ed7953\"],[0.7777777777777778,\"#fb9f3a\"],[0.8888888888888888,\"#fdca26\"],[1.0,\"#f0f921\"]],\"sequentialminus\":[[0.0,\"#0d0887\"],[0.1111111111111111,\"#46039f\"],[0.2222222222222222,\"#7201a8\"],[0.3333333333333333,\"#9c179e\"],[0.4444444444444444,\"#bd3786\"],[0.5555555555555556,\"#d8576b\"],[0.6666666666666666,\"#ed7953\"],[0.7777777777777778,\"#fb9f3a\"],[0.8888888888888888,\"#fdca26\"],[1.0,\"#f0f921\"]],\"diverging\":[[0,\"#8e0152\"],[0.1,\"#c51b7d\"],[0.2,\"#de77ae\"],[0.3,\"#f1b6da\"],[0.4,\"#fde0ef\"],[0.5,\"#f7f7f7\"],[0.6,\"#e6f5d0\"],[0.7,\"#b8e186\"],[0.8,\"#7fbc41\"],[0.9,\"#4d9221\"],[1,\"#276419\"]]},\"xaxis\":{\"gridcolor\":\"white\",\"linecolor\":\"white\",\"ticks\":\"\",\"title\":{\"standoff\":15},\"zerolinecolor\":\"white\",\"automargin\":true,\"zerolinewidth\":2},\"yaxis\":{\"gridcolor\":\"white\",\"linecolor\":\"white\",\"ticks\":\"\",\"title\":{\"standoff\":15},\"zerolinecolor\":\"white\",\"automargin\":true,\"zerolinewidth\":2},\"scene\":{\"xaxis\":{\"backgroundcolor\":\"#E5ECF6\",\"gridcolor\":\"white\",\"linecolor\":\"white\",\"showbackground\":true,\"ticks\":\"\",\"zerolinecolor\":\"white\",\"gridwidth\":2},\"yaxis\":{\"backgroundcolor\":\"#E5ECF6\",\"gridcolor\":\"white\",\"linecolor\":\"white\",\"showbackground\":true,\"ticks\":\"\",\"zerolinecolor\":\"white\",\"gridwidth\":2},\"zaxis\":{\"backgroundcolor\":\"#E5ECF6\",\"gridcolor\":\"white\",\"linecolor\":\"white\",\"showbackground\":true,\"ticks\":\"\",\"zerolinecolor\":\"white\",\"gridwidth\":2}},\"shapedefaults\":{\"line\":{\"color\":\"#2a3f5f\"}},\"annotationdefaults\":{\"arrowcolor\":\"#2a3f5f\",\"arrowhead\":0,\"arrowwidth\":1},\"geo\":{\"bgcolor\":\"white\",\"landcolor\":\"#E5ECF6\",\"subunitcolor\":\"white\",\"showland\":true,\"showlakes\":true,\"lakecolor\":\"white\"},\"title\":{\"x\":0.05},\"mapbox\":{\"style\":\"light\"}}},\"xaxis\":{\"anchor\":\"y\",\"domain\":[0.0,1.0],\"title\":{\"text\":\"x\"}},\"yaxis\":{\"anchor\":\"x\",\"domain\":[0.0,1.0],\"title\":{\"text\":\"y\"}},\"legend\":{\"tracegroupgap\":0},\"margin\":{\"t\":60},\"title\":{\"text\":\"TNSE\"},\"height\":800,\"width\":800},                        {\"responsive\": true}                    ).then(function(){\n",
       "                            \n",
       "var gd = document.getElementById('bbaf56cc-e7e3-4d5f-aab2-dc5c50339bf9');\n",
       "var x = new MutationObserver(function (mutations, observer) {{\n",
       "        var display = window.getComputedStyle(gd).display;\n",
       "        if (!display || display === 'none') {{\n",
       "            console.log([gd, 'removed!']);\n",
       "            Plotly.purge(gd);\n",
       "            observer.disconnect();\n",
       "        }}\n",
       "}});\n",
       "\n",
       "// Listen for the removal of the full notebook cells\n",
       "var notebookContainer = gd.closest('#notebook-container');\n",
       "if (notebookContainer) {{\n",
       "    x.observe(notebookContainer, {childList: true});\n",
       "}}\n",
       "\n",
       "// Listen for the clearing of the current output cell\n",
       "var outputEl = gd.closest('.output');\n",
       "if (outputEl) {{\n",
       "    x.observe(outputEl, {childList: true});\n",
       "}}\n",
       "\n",
       "                        })                };                });            </script>        </div>"
      ]
     },
     "metadata": {},
     "output_type": "display_data"
    }
   ],
   "source": [
    "fig = px.scatter(x=tsne_projection[0], y=tsne_projection[1], text=tsne_projection.droplevel(0).index)\n",
    "fig.update_traces(textposition='top center')\n",
    "fig.update_layout(height=800, width=800, title_text='TNSE')\n",
    "fig.show()"
   ]
  },
  {
   "cell_type": "code",
   "execution_count": null,
   "id": "060ebf37-fb6a-43a8-83d4-cd8e5568843f",
   "metadata": {},
   "outputs": [],
   "source": []
  }
 ],
 "metadata": {
  "kernelspec": {
   "display_name": "Python 3 (ipykernel)",
   "language": "python",
   "name": "python3"
  },
  "language_info": {
   "codemirror_mode": {
    "name": "ipython",
    "version": 3
   },
   "file_extension": ".py",
   "mimetype": "text/x-python",
   "name": "python",
   "nbconvert_exporter": "python",
   "pygments_lexer": "ipython3",
   "version": "3.9.12"
  }
 },
 "nbformat": 4,
 "nbformat_minor": 5
}
