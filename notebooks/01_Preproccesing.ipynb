{
 "cells": [
  {
   "cell_type": "code",
   "execution_count": 8,
   "id": "18e34c32-6625-4b31-92d6-a53c716e19d9",
   "metadata": {},
   "outputs": [],
   "source": [
    "DATA_PATH = r\"C:\\Users\\Mohamed Gad\\OneDrive\\Desktop\\All About Data Science\\Data Sciience Projects\\End to End - Ai-Pro\\V1\\iti project\\AI-Pro Project\\data\\raw\\survey_results_public.csv \"\n",
    "EXPORT_PATH = r\"C:\\Users\\Mohamed Gad\\OneDrive\\Desktop\\All About Data Science\\Data Sciience Projects\\End to End - Ai-Pro\\V1\\iti project\\AI-Pro Project\\data\\processed\\1_preprcoessed_df.pkl\"\n"
   ]
  },
  {
   "cell_type": "code",
   "execution_count": 9,
   "id": "2715969a-1b87-44c9-bbe4-4cf79fd89ab9",
   "metadata": {},
   "outputs": [],
   "source": [
    "import pandas as pd\n",
    "import numpy as np\n",
    "import pandas as pd\n",
    "import numpy as np\n",
    "raw_data = pd.read_csv(DATA_PATH)"
   ]
  },
  {
   "cell_type": "markdown",
   "id": "f7dc8dd3-feca-4ca3-9679-ae208a7471c6",
   "metadata": {
    "tags": []
   },
   "source": [
    "## Functtions "
   ]
  },
  {
   "cell_type": "code",
   "execution_count": 10,
   "id": "ff147f2b-844e-40dc-a23e-f9ed20a7f6ee",
   "metadata": {},
   "outputs": [],
   "source": [
    "\n",
    "def split_answers(data_series, delimiter=';'):\n",
    "    \"\"\"Split multiple answers in a single string to a list of single strings each representing a single answer\n",
    "    \n",
    "    Args:\n",
    "        data_series (pandas.Series): Series containing the data to split\n",
    "        delimiter (str): Delimiter used to separate answers. Defaults to ';'.\n",
    "    \n",
    "    Returns:\n",
    "        pandas.Series: Series with split answers\n",
    "    \n",
    "    \"\"\"\n",
    "    \n",
    "    # Sub functions\n",
    "    def is_splittable(pd_series, delimiter):\n",
    "        \"\"\"Function to check if a string can be split\"\"\"\n",
    "        return pd_series.str.contains(delimiter, na=False)\n",
    "    \n",
    "    def split_answer(pd_series, delimiter):\n",
    "        \"\"\"Function to split a single answer\"\"\"\n",
    "        return pd_series.str.split(delimiter)\n",
    "    \n",
    "    # Fill NaN values with empty string\n",
    "    data_series = data_series.fillna('')\n",
    "    \n",
    "    # Get the indices of the NaN values\n",
    "    nan_indices = data_series.index[data_series.isna()]\n",
    "    \n",
    "    # Check if the series needs to be split\n",
    "    if is_splittable(data_series, delimiter).any():\n",
    "        # Split the non-NaN values using the delimiter\n",
    "        split_series = split_answer(data_series[data_series.notna()],delimiter)\n",
    "        \n",
    "        \n",
    "        # Insert the NaN values back into the split series\n",
    "        split_series = split_series.reindex(data_series.index)\n",
    "        split_series.loc[nan_indices] = np.nan\n",
    "        \n",
    "        return split_series\n",
    "    else:\n",
    "        # The series does not need to be split\n",
    "        return data_series\n",
    "    \n",
    "def parse_age (x) :\n",
    "    str_dct ={'More than 50 years' : 50,\n",
    "              'Less than 1 year' : 1,\n",
    "              'Younger than 5 years' : 1,\n",
    "              'Older than 85' : 85}\n",
    "    \n",
    "    if isinstance(x, str) and x in str_dct :\n",
    "        return str_dct[x]\n",
    "    else :\n",
    "        return x\n",
    "    \n"
   ]
  },
  {
   "cell_type": "markdown",
   "id": "c3e68370-01d2-484c-9e4a-bc76201bf76c",
   "metadata": {
    "tags": []
   },
   "source": [
    "### Check Results "
   ]
  },
  {
   "cell_type": "code",
   "execution_count": 11,
   "id": "625ffed8-e3d5-493d-a67e-10aef4494297",
   "metadata": {},
   "outputs": [
    {
     "name": "stdout",
     "output_type": "stream",
     "text": [
      "C#;HTML/CSS;JavaScript\n",
      "['C#', 'HTML/CSS', 'JavaScript']\n"
     ]
    }
   ],
   "source": [
    "# Check the split answers results in a sepecific column\n",
    "print  (raw_data['LanguageWorkedWith'].iloc[0])\n",
    "print (split_answers(raw_data['LanguageWorkedWith']).iloc[0])"
   ]
  },
  {
   "cell_type": "code",
   "execution_count": 12,
   "id": "dbf321e8-bd11-4d30-a524-d0a1a1705a03",
   "metadata": {},
   "outputs": [],
   "source": [
    "#apply to all object columns \n",
    "# Create a boolean mask for object columns\n",
    "mask = raw_data.dtypes == object\n",
    "\n",
    "# Apply the function to only object columns\n",
    "raw_data.loc[:, mask] = raw_data.loc[:, mask].apply(split_answers)\n"
   ]
  },
  {
   "cell_type": "code",
   "execution_count": 27,
   "id": "1dc744e6-8117-48fe-827e-e5ddb7d9f5ec",
   "metadata": {},
   "outputs": [
    {
     "data": {
      "text/plain": [
       "Respondent                                                      55335\n",
       "MainBranch                             I am a developer by profession\n",
       "Hobbyist                                                           No\n",
       "Age                                                               NaN\n",
       "Age1stCode                                                         20\n",
       "                                           ...                       \n",
       "WebframeWorkedWith    [Angular.js, jQuery, Laravel, React.js, Vue.js]\n",
       "WelcomeChange                                                        \n",
       "WorkWeekHrs                                                      45.0\n",
       "YearsCode                                                           8\n",
       "YearsCodePro                                                        4\n",
       "Name: 54230, Length: 61, dtype: object"
      ]
     },
     "execution_count": 27,
     "metadata": {},
     "output_type": "execute_result"
    }
   ],
   "source": [
    "raw_data.sample(1).iloc[0]"
   ]
  },
  {
   "cell_type": "code",
   "execution_count": 15,
   "id": "113be86d-5c16-461f-a9d6-7b773a233cd8",
   "metadata": {},
   "outputs": [
    {
     "name": "stdout",
     "output_type": "stream",
     "text": [
      "Less than 1 year\n",
      "1\n"
     ]
    }
   ],
   "source": [
    "# Check the age parsing\n",
    "print (raw_data['YearsCodePro'].iloc[82])\n",
    "print (raw_data['YearsCodePro'].apply(parse_age).iloc[82])"
   ]
  },
  {
   "cell_type": "markdown",
   "id": "946eebaa-914c-430a-8d5a-b6e58d1b8a5e",
   "metadata": {},
   "source": [
    "##### Applying the changes to the data and save it as a pickled file"
   ]
  },
  {
   "cell_type": "code",
   "execution_count": 16,
   "id": "36a742e5-1021-4f23-886e-95cb8bb3c97c",
   "metadata": {},
   "outputs": [],
   "source": [
    "# now after making sure that every thing work well let's apply them \n",
    "df = raw_data.copy()\n",
    "for col in raw_data.columns :\n",
    "    # making sure that the type of the column in str (object)\n",
    "    if df.dtypes[col] != df.dtypes['LanguageWorkedWith'] :\n",
    "        continue\n",
    "    df[col] = split_answers (raw_data[col])\n"
   ]
  },
  {
   "cell_type": "code",
   "execution_count": 17,
   "id": "2444f5f6-6689-490d-8885-48dc446b53e7",
   "metadata": {},
   "outputs": [],
   "source": [
    "df[['YearsCodePro', 'YearsCode', 'Age1stCode']] = df[['YearsCodePro', 'YearsCode', 'Age1stCode']].applymap(parse_age) # applymap to apply a function to each single variable not to a pandas series\n",
    "df[['YearsCodePro', 'YearsCode', 'Age1stCode']] = df[['YearsCodePro', 'YearsCode', 'Age1stCode']].apply(pd.to_numeric)\n"
   ]
  },
  {
   "cell_type": "code",
   "execution_count": 18,
   "id": "a75e1d25-9622-4ae2-8ae1-1be4868f767a",
   "metadata": {},
   "outputs": [
    {
     "name": "stdout",
     "output_type": "stream",
     "text": [
      "<class 'pandas.core.frame.DataFrame'>\n",
      "RangeIndex: 64461 entries, 0 to 64460\n",
      "Data columns (total 61 columns):\n",
      " #   Column                        Non-Null Count  Dtype  \n",
      "---  ------                        --------------  -----  \n",
      " 0   Respondent                    64461 non-null  int64  \n",
      " 1   MainBranch                    64461 non-null  object \n",
      " 2   Hobbyist                      64461 non-null  object \n",
      " 3   Age                           45446 non-null  float64\n",
      " 4   Age1stCode                    57900 non-null  float64\n",
      " 5   CompFreq                      64461 non-null  object \n",
      " 6   CompTotal                     34826 non-null  float64\n",
      " 7   ConvertedComp                 34756 non-null  float64\n",
      " 8   Country                       64461 non-null  object \n",
      " 9   CurrencyDesc                  64461 non-null  object \n",
      " 10  CurrencySymbol                64461 non-null  object \n",
      " 11  DatabaseDesireNextYear        64461 non-null  object \n",
      " 12  DatabaseWorkedWith            64461 non-null  object \n",
      " 13  DevType                       64461 non-null  object \n",
      " 14  EdLevel                       64461 non-null  object \n",
      " 15  Employment                    64461 non-null  object \n",
      " 16  Ethnicity                     64461 non-null  object \n",
      " 17  Gender                        64461 non-null  object \n",
      " 18  JobFactors                    64461 non-null  object \n",
      " 19  JobSat                        64461 non-null  object \n",
      " 20  JobSeek                       64461 non-null  object \n",
      " 21  LanguageDesireNextYear        64461 non-null  object \n",
      " 22  LanguageWorkedWith            64461 non-null  object \n",
      " 23  MiscTechDesireNextYear        64461 non-null  object \n",
      " 24  MiscTechWorkedWith            64461 non-null  object \n",
      " 25  NEWCollabToolsDesireNextYear  64461 non-null  object \n",
      " 26  NEWCollabToolsWorkedWith      64461 non-null  object \n",
      " 27  NEWDevOps                     64461 non-null  object \n",
      " 28  NEWDevOpsImpt                 64461 non-null  object \n",
      " 29  NEWEdImpt                     64461 non-null  object \n",
      " 30  NEWJobHunt                    64461 non-null  object \n",
      " 31  NEWJobHuntResearch            64461 non-null  object \n",
      " 32  NEWLearn                      64461 non-null  object \n",
      " 33  NEWOffTopic                   64461 non-null  object \n",
      " 34  NEWOnboardGood                64461 non-null  object \n",
      " 35  NEWOtherComms                 64461 non-null  object \n",
      " 36  NEWOvertime                   64461 non-null  object \n",
      " 37  NEWPurchaseResearch           64461 non-null  object \n",
      " 38  NEWPurpleLink                 64461 non-null  object \n",
      " 39  NEWSOSites                    64461 non-null  object \n",
      " 40  NEWStuck                      64461 non-null  object \n",
      " 41  OpSys                         64461 non-null  object \n",
      " 42  OrgSize                       64461 non-null  object \n",
      " 43  PlatformDesireNextYear        64461 non-null  object \n",
      " 44  PlatformWorkedWith            64461 non-null  object \n",
      " 45  PurchaseWhat                  64461 non-null  object \n",
      " 46  Sexuality                     64461 non-null  object \n",
      " 47  SOAccount                     64461 non-null  object \n",
      " 48  SOComm                        64461 non-null  object \n",
      " 49  SOPartFreq                    64461 non-null  object \n",
      " 50  SOVisitFreq                   64461 non-null  object \n",
      " 51  SurveyEase                    64461 non-null  object \n",
      " 52  SurveyLength                  64461 non-null  object \n",
      " 53  Trans                         64461 non-null  object \n",
      " 54  UndergradMajor                64461 non-null  object \n",
      " 55  WebframeDesireNextYear        64461 non-null  object \n",
      " 56  WebframeWorkedWith            64461 non-null  object \n",
      " 57  WelcomeChange                 64461 non-null  object \n",
      " 58  WorkWeekHrs                   41151 non-null  float64\n",
      " 59  YearsCode                     57684 non-null  float64\n",
      " 60  YearsCodePro                  46349 non-null  float64\n",
      "dtypes: float64(7), int64(1), object(53)\n",
      "memory usage: 30.0+ MB\n"
     ]
    }
   ],
   "source": [
    "df.info()"
   ]
  },
  {
   "cell_type": "markdown",
   "id": "d8eb9065-4042-46f4-b777-e61322b83c03",
   "metadata": {},
   "source": [
    " #### Now Every thing seems good let's save the data as a piickled file "
   ]
  },
  {
   "cell_type": "code",
   "execution_count": 19,
   "id": "73350631-6454-4ced-8751-e7e020720d32",
   "metadata": {},
   "outputs": [],
   "source": [
    "df.to_pickle(EXPORT_PATH)"
   ]
  },
  {
   "cell_type": "code",
   "execution_count": null,
   "id": "03cd0e44-011e-4036-98ad-f861e098e92d",
   "metadata": {},
   "outputs": [],
   "source": []
  }
 ],
 "metadata": {
  "kernelspec": {
   "display_name": "Python 3 (ipykernel)",
   "language": "python",
   "name": "python3"
  },
  "language_info": {
   "codemirror_mode": {
    "name": "ipython",
    "version": 3
   },
   "file_extension": ".py",
   "mimetype": "text/x-python",
   "name": "python",
   "nbconvert_exporter": "python",
   "pygments_lexer": "ipython3",
   "version": "3.9.12"
  }
 },
 "nbformat": 4,
 "nbformat_minor": 5
}
