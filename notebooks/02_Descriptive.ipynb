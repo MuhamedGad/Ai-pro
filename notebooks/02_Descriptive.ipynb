{
 "cells": [
  {
   "cell_type": "code",
   "execution_count": 64,
   "id": "abddb8a7-ec7a-4c61-bd9b-1e975dd52cb4",
   "metadata": {},
   "outputs": [],
   "source": [
    "DATA_PATH =r\"C:\\Users\\Mohamed Gad\\OneDrive\\Desktop\\All About Data Science\\Data Sciience Projects\\End to End - Ai-Pro\\V1\\iti project\\AI-Pro Project\\data\\processed\\1_preprcoessed_df.pkl\""
   ]
  },
  {
   "cell_type": "code",
   "execution_count": 65,
   "id": "b4ee8fef-17f0-4f0c-9f3f-13d82b180f81",
   "metadata": {},
   "outputs": [],
   "source": [
    "TECH_COLS = [ 'DatabaseWorkedWith', 'LanguageWorkedWith', 'MiscTechWorkedWith',  'WebframeWorkedWith']\n",
    "TECH_NEXT_COLS = ['DatabaseDesireNextYear', 'LanguageDesireNextYear', 'MiscTechDesireNextYear', 'WebframeDesireNextYear',]\n",
    "ROLE_COLS = [\"DevType\"]"
   ]
  },
  {
   "cell_type": "code",
   "execution_count": 67,
   "id": "9697a070-4924-4b3d-9749-858981722a72",
   "metadata": {},
   "outputs": [],
   "source": [
    "import pandas as pd\n",
    "import numpy as np\n",
    "import matplotlib.pyplot as plt\n",
    "from sklearn.preprocessing import MultiLabelBinarizer\n",
    "import plotly.express as px\n",
    "\n",
    "pd.options.display.max_rows =1000"
   ]
  },
  {
   "cell_type": "code",
   "execution_count": 68,
   "id": "636d39ed-f6fa-48e0-9a5d-de4dd65309af",
   "metadata": {},
   "outputs": [],
   "source": [
    "raw_df = pd.read_pickle(DATA_PATH)"
   ]
  },
  {
   "cell_type": "code",
   "execution_count": 69,
   "id": "0853d379-a49d-434c-aef5-3622aa7f5540",
   "metadata": {
    "tags": []
   },
   "outputs": [
    {
     "data": {
      "text/html": [
       "<div>\n",
       "<style scoped>\n",
       "    .dataframe tbody tr th:only-of-type {\n",
       "        vertical-align: middle;\n",
       "    }\n",
       "\n",
       "    .dataframe tbody tr th {\n",
       "        vertical-align: top;\n",
       "    }\n",
       "\n",
       "    .dataframe thead th {\n",
       "        text-align: right;\n",
       "    }\n",
       "</style>\n",
       "<table border=\"1\" class=\"dataframe\">\n",
       "  <thead>\n",
       "    <tr style=\"text-align: right;\">\n",
       "      <th></th>\n",
       "      <th>Respondent</th>\n",
       "      <th>MainBranch</th>\n",
       "      <th>Hobbyist</th>\n",
       "      <th>Age</th>\n",
       "      <th>Age1stCode</th>\n",
       "      <th>CompFreq</th>\n",
       "      <th>CompTotal</th>\n",
       "      <th>ConvertedComp</th>\n",
       "      <th>Country</th>\n",
       "      <th>CurrencyDesc</th>\n",
       "      <th>...</th>\n",
       "      <th>SurveyEase</th>\n",
       "      <th>SurveyLength</th>\n",
       "      <th>Trans</th>\n",
       "      <th>UndergradMajor</th>\n",
       "      <th>WebframeDesireNextYear</th>\n",
       "      <th>WebframeWorkedWith</th>\n",
       "      <th>WelcomeChange</th>\n",
       "      <th>WorkWeekHrs</th>\n",
       "      <th>YearsCode</th>\n",
       "      <th>YearsCodePro</th>\n",
       "    </tr>\n",
       "  </thead>\n",
       "  <tbody>\n",
       "    <tr>\n",
       "      <th>0</th>\n",
       "      <td>1</td>\n",
       "      <td>I am a developer by profession</td>\n",
       "      <td>Yes</td>\n",
       "      <td>NaN</td>\n",
       "      <td>13.0</td>\n",
       "      <td>Monthly</td>\n",
       "      <td>NaN</td>\n",
       "      <td>NaN</td>\n",
       "      <td>Germany</td>\n",
       "      <td>European Euro</td>\n",
       "      <td>...</td>\n",
       "      <td>Neither easy nor difficult</td>\n",
       "      <td>Appropriate in length</td>\n",
       "      <td>No</td>\n",
       "      <td>Computer science, computer engineering, or sof...</td>\n",
       "      <td>[ASP.NET Core]</td>\n",
       "      <td>[ASP.NET, ASP.NET Core]</td>\n",
       "      <td>Just as welcome now as I felt last year</td>\n",
       "      <td>50.0</td>\n",
       "      <td>36.0</td>\n",
       "      <td>27.0</td>\n",
       "    </tr>\n",
       "    <tr>\n",
       "      <th>1</th>\n",
       "      <td>2</td>\n",
       "      <td>I am a developer by profession</td>\n",
       "      <td>No</td>\n",
       "      <td>NaN</td>\n",
       "      <td>19.0</td>\n",
       "      <td></td>\n",
       "      <td>NaN</td>\n",
       "      <td>NaN</td>\n",
       "      <td>United Kingdom</td>\n",
       "      <td>Pound sterling</td>\n",
       "      <td>...</td>\n",
       "      <td></td>\n",
       "      <td></td>\n",
       "      <td></td>\n",
       "      <td>Computer science, computer engineering, or sof...</td>\n",
       "      <td>[]</td>\n",
       "      <td>[]</td>\n",
       "      <td>Somewhat more welcome now than last year</td>\n",
       "      <td>NaN</td>\n",
       "      <td>7.0</td>\n",
       "      <td>4.0</td>\n",
       "    </tr>\n",
       "    <tr>\n",
       "      <th>2</th>\n",
       "      <td>3</td>\n",
       "      <td>I code primarily as a hobby</td>\n",
       "      <td>Yes</td>\n",
       "      <td>NaN</td>\n",
       "      <td>15.0</td>\n",
       "      <td></td>\n",
       "      <td>NaN</td>\n",
       "      <td>NaN</td>\n",
       "      <td>Russian Federation</td>\n",
       "      <td></td>\n",
       "      <td>...</td>\n",
       "      <td>Neither easy nor difficult</td>\n",
       "      <td>Appropriate in length</td>\n",
       "      <td></td>\n",
       "      <td></td>\n",
       "      <td>[]</td>\n",
       "      <td>[]</td>\n",
       "      <td>Somewhat more welcome now than last year</td>\n",
       "      <td>NaN</td>\n",
       "      <td>4.0</td>\n",
       "      <td>NaN</td>\n",
       "    </tr>\n",
       "    <tr>\n",
       "      <th>3</th>\n",
       "      <td>4</td>\n",
       "      <td>I am a developer by profession</td>\n",
       "      <td>Yes</td>\n",
       "      <td>25.0</td>\n",
       "      <td>18.0</td>\n",
       "      <td></td>\n",
       "      <td>NaN</td>\n",
       "      <td>NaN</td>\n",
       "      <td>Albania</td>\n",
       "      <td>Albanian lek</td>\n",
       "      <td>...</td>\n",
       "      <td></td>\n",
       "      <td></td>\n",
       "      <td>No</td>\n",
       "      <td>Computer science, computer engineering, or sof...</td>\n",
       "      <td>[]</td>\n",
       "      <td>[]</td>\n",
       "      <td>Somewhat less welcome now than last year</td>\n",
       "      <td>40.0</td>\n",
       "      <td>7.0</td>\n",
       "      <td>4.0</td>\n",
       "    </tr>\n",
       "    <tr>\n",
       "      <th>4</th>\n",
       "      <td>5</td>\n",
       "      <td>I used to be a developer by profession, but no...</td>\n",
       "      <td>Yes</td>\n",
       "      <td>31.0</td>\n",
       "      <td>16.0</td>\n",
       "      <td></td>\n",
       "      <td>NaN</td>\n",
       "      <td>NaN</td>\n",
       "      <td>United States</td>\n",
       "      <td></td>\n",
       "      <td>...</td>\n",
       "      <td>Easy</td>\n",
       "      <td>Too short</td>\n",
       "      <td>No</td>\n",
       "      <td>Computer science, computer engineering, or sof...</td>\n",
       "      <td>[Django, Ruby on Rails]</td>\n",
       "      <td>[Ruby on Rails]</td>\n",
       "      <td>Just as welcome now as I felt last year</td>\n",
       "      <td>NaN</td>\n",
       "      <td>15.0</td>\n",
       "      <td>8.0</td>\n",
       "    </tr>\n",
       "  </tbody>\n",
       "</table>\n",
       "<p>5 rows × 61 columns</p>\n",
       "</div>"
      ],
      "text/plain": [
       "   Respondent                                         MainBranch Hobbyist  \\\n",
       "0           1                     I am a developer by profession      Yes   \n",
       "1           2                     I am a developer by profession       No   \n",
       "2           3                        I code primarily as a hobby      Yes   \n",
       "3           4                     I am a developer by profession      Yes   \n",
       "4           5  I used to be a developer by profession, but no...      Yes   \n",
       "\n",
       "    Age  Age1stCode CompFreq  CompTotal  ConvertedComp             Country  \\\n",
       "0   NaN        13.0  Monthly        NaN            NaN             Germany   \n",
       "1   NaN        19.0                 NaN            NaN      United Kingdom   \n",
       "2   NaN        15.0                 NaN            NaN  Russian Federation   \n",
       "3  25.0        18.0                 NaN            NaN             Albania   \n",
       "4  31.0        16.0                 NaN            NaN       United States   \n",
       "\n",
       "     CurrencyDesc  ...                  SurveyEase           SurveyLength  \\\n",
       "0   European Euro  ...  Neither easy nor difficult  Appropriate in length   \n",
       "1  Pound sterling  ...                                                      \n",
       "2                  ...  Neither easy nor difficult  Appropriate in length   \n",
       "3    Albanian lek  ...                                                      \n",
       "4                  ...                        Easy              Too short   \n",
       "\n",
       "  Trans                                     UndergradMajor  \\\n",
       "0    No  Computer science, computer engineering, or sof...   \n",
       "1        Computer science, computer engineering, or sof...   \n",
       "2                                                            \n",
       "3    No  Computer science, computer engineering, or sof...   \n",
       "4    No  Computer science, computer engineering, or sof...   \n",
       "\n",
       "    WebframeDesireNextYear       WebframeWorkedWith  \\\n",
       "0           [ASP.NET Core]  [ASP.NET, ASP.NET Core]   \n",
       "1                       []                       []   \n",
       "2                       []                       []   \n",
       "3                       []                       []   \n",
       "4  [Django, Ruby on Rails]          [Ruby on Rails]   \n",
       "\n",
       "                              WelcomeChange WorkWeekHrs YearsCode YearsCodePro  \n",
       "0   Just as welcome now as I felt last year        50.0      36.0         27.0  \n",
       "1  Somewhat more welcome now than last year         NaN       7.0          4.0  \n",
       "2  Somewhat more welcome now than last year         NaN       4.0          NaN  \n",
       "3  Somewhat less welcome now than last year        40.0       7.0          4.0  \n",
       "4   Just as welcome now as I felt last year         NaN      15.0          8.0  \n",
       "\n",
       "[5 rows x 61 columns]"
      ]
     },
     "execution_count": 69,
     "metadata": {},
     "output_type": "execute_result"
    }
   ],
   "source": [
    "raw_df.head()"
   ]
  },
  {
   "cell_type": "markdown",
   "id": "a93e5bca-b271-46bd-ac6f-8c23cd020e53",
   "metadata": {},
   "source": [
    "## General\n",
    "##### Total number of answers"
   ]
  },
  {
   "cell_type": "code",
   "execution_count": 70,
   "id": "8f765a91-41ff-4ce9-ab46-43b3614507f2",
   "metadata": {},
   "outputs": [
    {
     "name": "stdout",
     "output_type": "stream",
     "text": [
      "Number of answers: 64461\n"
     ]
    }
   ],
   "source": [
    "print (\"Number of answers:\",raw_df.shape[0])"
   ]
  },
  {
   "cell_type": "markdown",
   "id": "005d0a61-35b2-4d2f-a6ba-c430774bd812",
   "metadata": {},
   "source": [
    "#### Geographical distributions"
   ]
  },
  {
   "cell_type": "code",
   "execution_count": 71,
   "id": "d4b81e43-d4c3-4bff-9baf-740413a0ef86",
   "metadata": {},
   "outputs": [
    {
     "data": {
      "text/plain": [
       "184"
      ]
     },
     "execution_count": 71,
     "metadata": {},
     "output_type": "execute_result"
    }
   ],
   "source": [
    "raw_df['Country'].nunique()"
   ]
  },
  {
   "cell_type": "markdown",
   "id": "95b6e1c5-ca5c-4e0d-ae56-f81f3f20e460",
   "metadata": {},
   "source": [
    "Since there are 184 country we should remove countries with few number of answers"
   ]
  },
  {
   "cell_type": "code",
   "execution_count": 11,
   "id": "968a9765-be5d-4288-b748-684da6e0663d",
   "metadata": {
    "collapsed": true,
    "jupyter": {
     "outputs_hidden": true
    },
    "tags": []
   },
   "outputs": [
    {
     "data": {
      "text/plain": [
       "Marshall Islands                                 1\n",
       "Saint Lucia                                      1\n",
       "Lesotho                                          1\n",
       "Nauru                                            1\n",
       "Fiji                                             1\n",
       "Kiribati                                         1\n",
       "Grenada                                          1\n",
       "Chad                                             1\n",
       "Mali                                             1\n",
       "Gabon                                            1\n",
       "Micronesia, Federated States of...               1\n",
       "North Korea                                      1\n",
       "Liechtenstein                                    1\n",
       "Papua New Guinea                                 2\n",
       "Djibouti                                         2\n",
       "San Marino                                       2\n",
       "Solomon Islands                                  2\n",
       "Cape Verde                                       2\n",
       "Burundi                                          2\n",
       "Monaco                                           2\n",
       "Timor-Leste                                      2\n",
       "Antigua and Barbuda                              2\n",
       "Eritrea                                          3\n",
       "Bahamas                                          3\n",
       "Brunei Darussalam                                3\n",
       "Saint Vincent and the Grenadines                 3\n",
       "Mauritania                                       4\n",
       "Gambia                                           4\n",
       "Turkmenistan                                     4\n",
       "Tajikistan                                       4\n",
       "Belize                                           4\n",
       "Haiti                                            5\n",
       "Barbados                                         5\n",
       "Guinea                                           5\n",
       "Niger                                            5\n",
       "Guyana                                           5\n",
       "Sierra Leone                                     6\n",
       "Burkina Faso                                     6\n",
       "Democratic Republic of the Congo                 7\n",
       "Yemen                                            7\n",
       "Mozambique                                       7\n",
       "Lao People's Democratic Republic                 7\n",
       "Swaziland                                        7\n",
       "Bhutan                                           7\n",
       "Trinidad and Tobago                              7\n",
       "Isle of Man                                      8\n",
       "Congo, Republic of the...                        8\n",
       "Libyan Arab Jamahiriya                           8\n",
       "Botswana                                         8\n",
       "Namibia                                          8\n",
       "Malawi                                           8\n",
       "Benin                                            9\n",
       "Bahrain                                          9\n",
       "Angola                                           9\n",
       "Togo                                            10\n",
       "Maldives                                        10\n",
       "Oman                                            11\n",
       "Mongolia                                        12\n",
       "Syrian Arab Republic                            13\n",
       "Montenegro                                      13\n",
       "Andorra                                         13\n",
       "Jamaica                                         14\n",
       "Kyrgyzstan                                      16\n",
       "Côte d'Ivoire                                   17\n",
       "Somalia                                         18\n",
       "Mauritius                                       18\n",
       "Kuwait                                          18\n",
       "Qatar                                           20\n",
       "Madagascar                                      21\n",
       "Honduras                                        21\n",
       "Zambia                                          21\n",
       "Cuba                                            22\n",
       "Panama                                          24\n",
       "Senegal                                         26\n",
       "El Salvador                                     26\n",
       "Paraguay                                        26\n",
       "Zimbabwe                                        31\n",
       "Rwanda                                          31\n",
       "Cambodia                                        31\n",
       "United Republic of Tanzania                     31\n",
       "Nomadic                                         31\n",
       "Kosovo                                          34\n",
       "Sudan                                           34\n",
       "Nicaragua                                       35\n",
       "The former Yugoslav Republic of Macedonia       38\n",
       "Bolivia                                         40\n",
       "Uzbekistan                                      41\n",
       "Luxembourg                                      42\n",
       "Iraq                                            44\n",
       "Malta                                           47\n",
       "Guatemala                                       49\n",
       "Ecuador                                         49\n",
       "Cyprus                                          50\n",
       "Azerbaijan                                      50\n",
       "Republic of Moldova                             50\n",
       "Cameroon                                        50\n",
       "Myanmar                                         51\n",
       "Iceland                                         53\n",
       "Albania                                         54\n",
       "Jordan                                          57\n",
       "Ethiopia                                        59\n",
       "Kazakhstan                                      61\n",
       "Armenia                                         64\n",
       "Georgia                                         67\n",
       "Venezuela, Bolivarian Republic of...            70\n",
       "Lebanon                                         71\n",
       "Dominican Republic                              72\n",
       "Costa Rica                                      76\n",
       "Uganda                                          81\n",
       "Afghanistan                                     84\n",
       "Republic of Korea                               88\n",
       "Saudi Arabia                                    90\n",
       "Algeria                                         94\n",
       "Bosnia and Herzegovina                          96\n",
       "Uruguay                                        100\n",
       "Peru                                           101\n",
       "Ghana                                          105\n",
       "Latvia                                         111\n",
       "Hong Kong (S.A.R.)                             111\n",
       "United Arab Emirates                           115\n",
       "Tunisia                                        125\n",
       "Belarus                                        129\n",
       "Estonia                                        145\n",
       "Thailand                                       148\n",
       "Slovenia                                       157\n",
       "Taiwan                                         158\n",
       "Lithuania                                      171\n",
       "Morocco                                        176\n",
       "Chile                                          181\n",
       "Croatia                                        185\n",
       "Slovakia                                       188\n",
       "South Korea                                    201\n",
       "Singapore                                      228\n",
       "Malaysia                                       231\n",
       "Nepal                                          242\n",
       "Kenya                                          271\n",
       "Egypt                                          281\n",
       "Colombia                                       285\n",
       "Sri Lanka                                      295\n",
       "Japan                                          297\n",
       "Serbia                                         306\n",
       "Bulgaria                                       323\n",
       "Finland                                        349\n",
       "New Zealand                                    353\n",
       "Viet Nam                                       364\n",
       "China                                          371\n",
       "Hungary                                        371\n",
       "Norway                                         384\n",
       "Portugal                                       388\n",
       "                                               389\n",
       "Greece                                         390\n",
       "Argentina                                      395\n",
       "Denmark                                        397\n",
       "Philippines                                    405\n",
       "Ireland                                        444\n",
       "Belgium                                        459\n",
       "Iran                                           491\n",
       "South Africa                                   494\n",
       "Indonesia                                      499\n",
       "Czech Republic                                 500\n",
       "Austria                                        539\n",
       "Ukraine                                        539\n",
       "Mexico                                         540\n",
       "Nigeria                                        593\n",
       "Romania                                        604\n",
       "Bangladesh                                     609\n",
       "Switzerland                                    629\n",
       "Israel                                         653\n",
       "Turkey                                         777\n",
       "Pakistan                                       809\n",
       "Sweden                                         886\n",
       "Russian Federation                            1092\n",
       "Italy                                         1117\n",
       "Spain                                         1161\n",
       "Australia                                     1208\n",
       "Poland                                        1278\n",
       "Netherlands                                   1343\n",
       "Brazil                                        1818\n",
       "France                                        1898\n",
       "Canada                                        2191\n",
       "Germany                                       3890\n",
       "United Kingdom                                3896\n",
       "India                                         8403\n",
       "United States                                12469\n",
       "Name: Country, dtype: int64"
      ]
     },
     "execution_count": 11,
     "metadata": {},
     "output_type": "execute_result"
    }
   ],
   "source": [
    "raw_df['Country'].value_counts(ascending=True)"
   ]
  },
  {
   "cell_type": "code",
   "execution_count": 12,
   "id": "4f2d90a1-3960-4574-a28a-cbad048ec233",
   "metadata": {},
   "outputs": [
    {
     "data": {
      "text/plain": [
       "60"
      ]
     },
     "execution_count": 12,
     "metadata": {},
     "output_type": "execute_result"
    }
   ],
   "source": [
    "(raw_df['Country'].value_counts() > 150).sum()"
   ]
  },
  {
   "cell_type": "code",
   "execution_count": 13,
   "id": "08d1e17c-aec1-4e5a-963e-e7060021ebfe",
   "metadata": {},
   "outputs": [
    {
     "data": {
      "text/plain": [
       "60"
      ]
     },
     "execution_count": 13,
     "metadata": {},
     "output_type": "execute_result"
    }
   ],
   "source": [
    "184 - 124"
   ]
  },
  {
   "cell_type": "code",
   "execution_count": 14,
   "id": "e02d3cdd-46ed-459e-98f4-5e3b692f4b42",
   "metadata": {
    "collapsed": true,
    "jupyter": {
     "outputs_hidden": true
    },
    "tags": []
   },
   "outputs": [
    {
     "data": {
      "text/plain": [
       "United States         True\n",
       "India                 True\n",
       "United Kingdom        True\n",
       "Germany               True\n",
       "Canada                True\n",
       "France                True\n",
       "Brazil                True\n",
       "Netherlands           True\n",
       "Poland                True\n",
       "Australia             True\n",
       "Spain                 True\n",
       "Italy                 True\n",
       "Russian Federation    True\n",
       "Sweden                True\n",
       "Pakistan              True\n",
       "Turkey                True\n",
       "Israel                True\n",
       "Switzerland           True\n",
       "Bangladesh            True\n",
       "Romania               True\n",
       "Nigeria               True\n",
       "Mexico                True\n",
       "Ukraine               True\n",
       "Austria               True\n",
       "Czech Republic        True\n",
       "Indonesia             True\n",
       "South Africa          True\n",
       "Iran                  True\n",
       "Belgium               True\n",
       "Ireland               True\n",
       "Philippines           True\n",
       "Denmark               True\n",
       "Argentina             True\n",
       "Greece                True\n",
       "                      True\n",
       "Portugal              True\n",
       "Norway                True\n",
       "China                 True\n",
       "Hungary               True\n",
       "Viet Nam              True\n",
       "New Zealand           True\n",
       "Finland               True\n",
       "Bulgaria              True\n",
       "Serbia                True\n",
       "Japan                 True\n",
       "Sri Lanka             True\n",
       "Colombia              True\n",
       "Egypt                 True\n",
       "Kenya                 True\n",
       "Nepal                 True\n",
       "Malaysia              True\n",
       "Singapore             True\n",
       "South Korea           True\n",
       "Slovakia              True\n",
       "Croatia               True\n",
       "Chile                 True\n",
       "Morocco               True\n",
       "Lithuania             True\n",
       "Taiwan                True\n",
       "Slovenia              True\n",
       "Name: Country, dtype: bool"
      ]
     },
     "execution_count": 14,
     "metadata": {},
     "output_type": "execute_result"
    }
   ],
   "source": [
    "countries = (raw_df['Country'].value_counts() > 150)[0:60]\n",
    "countries"
   ]
  },
  {
   "cell_type": "code",
   "execution_count": 15,
   "id": "32b084a7-5c27-40ec-b42f-706ac199e2e8",
   "metadata": {},
   "outputs": [
    {
     "data": {
      "text/plain": [
       "60"
      ]
     },
     "execution_count": 15,
     "metadata": {},
     "output_type": "execute_result"
    }
   ],
   "source": [
    "# we will remove countries with answers less than 150\n",
    "top60countires = raw_df[raw_df['Country'].isin(countries.index.values)]\n",
    "top60countires['Country'].nunique()"
   ]
  },
  {
   "cell_type": "code",
   "execution_count": 16,
   "id": "195b4b9d-b4b4-4514-8184-ec9be08847f3",
   "metadata": {
    "collapsed": true,
    "jupyter": {
     "outputs_hidden": true
    },
    "tags": []
   },
   "outputs": [
    {
     "data": {
      "image/png": "[encoded data removed]",
      "text/plain": [
       "<Figure size 4000x4000 with 1 Axes>"
      ]
     },
     "metadata": {},
     "output_type": "display_data"
    }
   ],
   "source": [
    "bar = top60countires['Country'].value_counts()\n",
    "fig = plt.figure(figsize=(40,40))\n",
    "plt.bar(bar.index.values, bar.values)\n",
    "plt.xticks(rotation=90, fontsize=30);"
   ]
  },
  {
   "cell_type": "code",
   "execution_count": 78,
   "id": "a48b1b57-671e-416c-ae5c-be074cf77d6b",
   "metadata": {},
   "outputs": [
    {
     "data": {
      "text/html": [
       "<div>\n",
       "<style scoped>\n",
       "    .dataframe tbody tr th:only-of-type {\n",
       "        vertical-align: middle;\n",
       "    }\n",
       "\n",
       "    .dataframe tbody tr th {\n",
       "        vertical-align: top;\n",
       "    }\n",
       "\n",
       "    .dataframe thead th {\n",
       "        text-align: right;\n",
       "    }\n",
       "</style>\n",
       "<table border=\"1\" class=\"dataframe\">\n",
       "  <thead>\n",
       "    <tr style=\"text-align: right;\">\n",
       "      <th></th>\n",
       "      <th>Respondent</th>\n",
       "      <th>MainBranch</th>\n",
       "      <th>Hobbyist</th>\n",
       "      <th>Age</th>\n",
       "      <th>Age1stCode</th>\n",
       "      <th>CompFreq</th>\n",
       "      <th>CompTotal</th>\n",
       "      <th>ConvertedComp</th>\n",
       "      <th>Country</th>\n",
       "      <th>CurrencyDesc</th>\n",
       "      <th>...</th>\n",
       "      <th>SurveyEase</th>\n",
       "      <th>SurveyLength</th>\n",
       "      <th>Trans</th>\n",
       "      <th>UndergradMajor</th>\n",
       "      <th>WebframeDesireNextYear</th>\n",
       "      <th>WebframeWorkedWith</th>\n",
       "      <th>WelcomeChange</th>\n",
       "      <th>WorkWeekHrs</th>\n",
       "      <th>YearsCode</th>\n",
       "      <th>YearsCodePro</th>\n",
       "    </tr>\n",
       "  </thead>\n",
       "  <tbody>\n",
       "    <tr>\n",
       "      <th>0</th>\n",
       "      <td>1</td>\n",
       "      <td>I am a developer by profession</td>\n",
       "      <td>Yes</td>\n",
       "      <td>NaN</td>\n",
       "      <td>13.0</td>\n",
       "      <td>Monthly</td>\n",
       "      <td>NaN</td>\n",
       "      <td>NaN</td>\n",
       "      <td>Germany</td>\n",
       "      <td>European Euro</td>\n",
       "      <td>...</td>\n",
       "      <td>Neither easy nor difficult</td>\n",
       "      <td>Appropriate in length</td>\n",
       "      <td>No</td>\n",
       "      <td>Computer science, computer engineering, or sof...</td>\n",
       "      <td>[ASP.NET Core]</td>\n",
       "      <td>[ASP.NET, ASP.NET Core]</td>\n",
       "      <td>Just as welcome now as I felt last year</td>\n",
       "      <td>50.0</td>\n",
       "      <td>36.0</td>\n",
       "      <td>27.0</td>\n",
       "    </tr>\n",
       "    <tr>\n",
       "      <th>1</th>\n",
       "      <td>2</td>\n",
       "      <td>I am a developer by profession</td>\n",
       "      <td>No</td>\n",
       "      <td>NaN</td>\n",
       "      <td>19.0</td>\n",
       "      <td></td>\n",
       "      <td>NaN</td>\n",
       "      <td>NaN</td>\n",
       "      <td>United Kingdom</td>\n",
       "      <td>Pound sterling</td>\n",
       "      <td>...</td>\n",
       "      <td></td>\n",
       "      <td></td>\n",
       "      <td></td>\n",
       "      <td>Computer science, computer engineering, or sof...</td>\n",
       "      <td>[]</td>\n",
       "      <td>[]</td>\n",
       "      <td>Somewhat more welcome now than last year</td>\n",
       "      <td>NaN</td>\n",
       "      <td>7.0</td>\n",
       "      <td>4.0</td>\n",
       "    </tr>\n",
       "  </tbody>\n",
       "</table>\n",
       "<p>2 rows × 61 columns</p>\n",
       "</div>"
      ],
      "text/plain": [
       "   Respondent                      MainBranch Hobbyist  Age  Age1stCode  \\\n",
       "0           1  I am a developer by profession      Yes  NaN        13.0   \n",
       "1           2  I am a developer by profession       No  NaN        19.0   \n",
       "\n",
       "  CompFreq  CompTotal  ConvertedComp         Country    CurrencyDesc  ...  \\\n",
       "0  Monthly        NaN            NaN         Germany   European Euro  ...   \n",
       "1                 NaN            NaN  United Kingdom  Pound sterling  ...   \n",
       "\n",
       "                   SurveyEase           SurveyLength Trans  \\\n",
       "0  Neither easy nor difficult  Appropriate in length    No   \n",
       "1                                                            \n",
       "\n",
       "                                      UndergradMajor WebframeDesireNextYear  \\\n",
       "0  Computer science, computer engineering, or sof...         [ASP.NET Core]   \n",
       "1  Computer science, computer engineering, or sof...                     []   \n",
       "\n",
       "        WebframeWorkedWith                             WelcomeChange  \\\n",
       "0  [ASP.NET, ASP.NET Core]   Just as welcome now as I felt last year   \n",
       "1                       []  Somewhat more welcome now than last year   \n",
       "\n",
       "  WorkWeekHrs YearsCode YearsCodePro  \n",
       "0        50.0      36.0         27.0  \n",
       "1         NaN       7.0          4.0  \n",
       "\n",
       "[2 rows x 61 columns]"
      ]
     },
     "execution_count": 78,
     "metadata": {},
     "output_type": "execute_result"
    }
   ],
   "source": [
    "raw_df.head(2)"
   ]
  },
  {
   "cell_type": "code",
   "execution_count": null,
   "id": "018b93ec-eeaa-4349-a0e2-39dbd2deb32d",
   "metadata": {},
   "outputs": [],
   "source": [
    "\n"
   ]
  },
  {
   "cell_type": "markdown",
   "id": "209fe663-8968-4907-a17d-061bb084ec6d",
   "metadata": {},
   "source": [
    "## Skills\n",
    "#### Freq. of each skill"
   ]
  },
  {
   "cell_type": "code",
   "execution_count": 91,
   "id": "6e698590-ba6a-4368-afa1-36ceb16584c4",
   "metadata": {},
   "outputs": [],
   "source": [
    "df = raw_df.copy()\n",
    "encoded_dfs = {}\n",
    "for col in TECH_COLS + ROLE_COLS : \n",
    "    mlb = MultiLabelBinarizer() \n",
    "    encdoed_df = pd.DataFrame(mlb.fit_transform(df[col]), columns=mlb.classes_, index=df[col].index) \n",
    "    encoded_dfs[col] = encdoed_df"
   ]
  },
  {
   "cell_type": "code",
   "execution_count": 97,
   "id": "a4884adc-6392-43d0-ad97-9cde9e0aa91f",
   "metadata": {},
   "outputs": [],
   "source": [
    "df = pd.concat(encoded_dfs, axis=1)"
   ]
  },
  {
   "cell_type": "code",
   "execution_count": 98,
   "id": "9fa91847-d093-4717-a572-0b88fada548e",
   "metadata": {
    "tags": []
   },
   "outputs": [
    {
     "data": {
      "text/plain": [
       "                        14924\n",
       "Cassandra                1654\n",
       "Couchbase                 937\n",
       "DynamoDB                 3497\n",
       "Elasticsearch            6817\n",
       "Firebase                 7128\n",
       "IBM DB2                  1421\n",
       "MariaDB                  8312\n",
       "Microsoft SQL Server    16336\n",
       "MongoDB                 13086\n",
       "MySQL                   27559\n",
       "Oracle                   8155\n",
       "PostgreSQL              17892\n",
       "Redis                    9056\n",
       "SQLite                  15434\n",
       "dtype: int64"
      ]
     },
     "execution_count": 98,
     "metadata": {},
     "output_type": "execute_result"
    }
   ],
   "source": [
    "\n",
    "df['DatabaseWorkedWith'].sum()\n",
    "#it seems that there are columns with no skill so we had to remove them"
   ]
  },
  {
   "cell_type": "markdown",
   "id": "149729a0-af68-4313-999b-202e4b9dce21",
   "metadata": {},
   "source": [
    "#### How are the skills correlated with each others"
   ]
  },
  {
   "cell_type": "code",
   "execution_count": 99,
   "id": "de51b6c8-7a03-4fe6-a541-2f968aff97e0",
   "metadata": {},
   "outputs": [
    {
     "data": {
      "text/html": [
       "<div>\n",
       "<style scoped>\n",
       "    .dataframe tbody tr th:only-of-type {\n",
       "        vertical-align: middle;\n",
       "    }\n",
       "\n",
       "    .dataframe tbody tr th {\n",
       "        vertical-align: top;\n",
       "    }\n",
       "\n",
       "    .dataframe thead th {\n",
       "        text-align: right;\n",
       "    }\n",
       "</style>\n",
       "<table border=\"1\" class=\"dataframe\">\n",
       "  <thead>\n",
       "    <tr style=\"text-align: right;\">\n",
       "      <th></th>\n",
       "      <th>Group</th>\n",
       "      <th>Skill</th>\n",
       "      <th>Freq</th>\n",
       "    </tr>\n",
       "  </thead>\n",
       "  <tbody>\n",
       "    <tr>\n",
       "      <th>0</th>\n",
       "      <td>DatabaseWorkedWith</td>\n",
       "      <td></td>\n",
       "      <td>14924</td>\n",
       "    </tr>\n",
       "    <tr>\n",
       "      <th>1</th>\n",
       "      <td>DatabaseWorkedWith</td>\n",
       "      <td>Cassandra</td>\n",
       "      <td>1654</td>\n",
       "    </tr>\n",
       "    <tr>\n",
       "      <th>2</th>\n",
       "      <td>DatabaseWorkedWith</td>\n",
       "      <td>Couchbase</td>\n",
       "      <td>937</td>\n",
       "    </tr>\n",
       "    <tr>\n",
       "      <th>3</th>\n",
       "      <td>DatabaseWorkedWith</td>\n",
       "      <td>DynamoDB</td>\n",
       "      <td>3497</td>\n",
       "    </tr>\n",
       "    <tr>\n",
       "      <th>4</th>\n",
       "      <td>DatabaseWorkedWith</td>\n",
       "      <td>Elasticsearch</td>\n",
       "      <td>6817</td>\n",
       "    </tr>\n",
       "  </tbody>\n",
       "</table>\n",
       "</div>"
      ],
      "text/plain": [
       "                Group          Skill   Freq\n",
       "0  DatabaseWorkedWith                 14924\n",
       "1  DatabaseWorkedWith      Cassandra   1654\n",
       "2  DatabaseWorkedWith      Couchbase    937\n",
       "3  DatabaseWorkedWith       DynamoDB   3497\n",
       "4  DatabaseWorkedWith  Elasticsearch   6817"
      ]
     },
     "execution_count": 99,
     "metadata": {},
     "output_type": "execute_result"
    }
   ],
   "source": [
    "# This was my first solution but since we will use a tree map to visualize we need a dataframe\n",
    "# freq = {}\n",
    "# for col in TECH_COLS + ROLE_COLS :\n",
    "#     for subcol in df[col] :\n",
    "#         freq[subcol] = df[col][subcol].sum()\n",
    "skill_freq = df.drop('DevType', axis=1).sum().reset_index()       \n",
    "skill_freq.columns = ['Group', 'Skill', 'Freq']\n",
    "skill_freq.head()\n"
   ]
  },
  {
   "cell_type": "code",
   "execution_count": 100,
   "id": "0deaccfa-fd9d-4588-a115-09612a9834da",
   "metadata": {},
   "outputs": [
    {
     "data": {
      "application/vnd.plotly.v1+json": {
       "config": {
        "plotlyServerURL": "https://plot.ly"
       },
       "data": [
        {
         "branchvalues": "total",
         "customdata": [
          [
           14924
          ],
          [
           7083
          ],
          [
           24147
          ],
          [
           22182
          ],
          [
           14144
          ],
          [
           10755
          ],
          [
           9258
          ],
          [
           8082
          ],
          [
           10617
          ],
          [
           6826
          ],
          [
           2955
          ],
          [
           2089
          ],
          [
           3553
          ],
          [
           18980
          ],
          [
           12487
          ],
          [
           18041
          ],
          [
           13707
          ],
          [
           1654
          ],
          [
           733
          ],
          [
           2419
          ],
          [
           937
          ],
          [
           2280
          ],
          [
           6014
          ],
          [
           1369
          ],
          [
           3497
          ],
          [
           6817
          ],
          [
           8961
          ],
          [
           7128
          ],
          [
           6005
          ],
          [
           2897
          ],
          [
           1703
          ],
          [
           5038
          ],
          [
           36181
          ],
          [
           1798
          ],
          [
           1222
          ],
          [
           1421
          ],
          [
           23074
          ],
          [
           38822
          ],
          [
           519
          ],
          [
           2504
          ],
          [
           4468
          ],
          [
           4680
          ],
          [
           8312
          ],
          [
           16336
          ],
          [
           13086
          ],
          [
           27559
          ],
          [
           20741
          ],
          [
           2340
          ],
          [
           8155
          ],
          [
           15007
          ],
          [
           6253
          ],
          [
           1796
          ],
          [
           17892
          ],
          [
           945
          ],
          [
           25287
          ],
          [
           3288
          ],
          [
           4626
          ],
          [
           15167
          ],
          [
           9056
          ],
          [
           4046
          ],
          [
           2944
          ],
          [
           2929
          ],
          [
           31413
          ],
          [
           15434
          ],
          [
           2052
          ],
          [
           6941
          ],
          [
           3397
          ],
          [
           1851
          ],
          [
           4652
          ],
          [
           2518
          ],
          [
           1872
          ],
          [
           14578
          ],
          [
           4413
          ],
          [
           1316
          ],
          [
           3499
          ],
          [
           7322
          ],
          [
           2357
          ],
          [
           18316
          ],
          [
           15185.869875433616
          ],
          [
           22466.719757224142
          ],
          [
           13019.873762419613
          ],
          [
           12015.40919284133
          ]
         ],
         "domain": {
          "x": [
           0,
           1
          ],
          "y": [
           0,
           1
          ]
         },
         "hovertemplate": "labels=%{label}<br>Freq_sum=%{value}<br>parent=%{parent}<br>id=%{id}<br>Freq=%{color}<extra></extra>",
         "ids": [
          "DatabaseWorkedWith/",
          "LanguageWorkedWith/",
          "MiscTechWorkedWith/",
          "WebframeWorkedWith/",
          "MiscTechWorkedWith/.NET",
          "MiscTechWorkedWith/.NET Core",
          "WebframeWorkedWith/ASP.NET",
          "WebframeWorkedWith/ASP.NET Core",
          "WebframeWorkedWith/Angular",
          "WebframeWorkedWith/Angular.js",
          "MiscTechWorkedWith/Ansible",
          "MiscTechWorkedWith/Apache Spark",
          "LanguageWorkedWith/Assembly",
          "LanguageWorkedWith/Bash/Shell/PowerShell",
          "LanguageWorkedWith/C",
          "LanguageWorkedWith/C#",
          "LanguageWorkedWith/C++",
          "DatabaseWorkedWith/Cassandra",
          "MiscTechWorkedWith/Chef",
          "MiscTechWorkedWith/Cordova",
          "DatabaseWorkedWith/Couchbase",
          "LanguageWorkedWith/Dart",
          "WebframeWorkedWith/Django",
          "WebframeWorkedWith/Drupal",
          "DatabaseWorkedWith/DynamoDB",
          "DatabaseWorkedWith/Elasticsearch",
          "WebframeWorkedWith/Express",
          "DatabaseWorkedWith/Firebase",
          "WebframeWorkedWith/Flask",
          "MiscTechWorkedWith/Flutter",
          "WebframeWorkedWith/Gatsby",
          "LanguageWorkedWith/Go",
          "LanguageWorkedWith/HTML/CSS",
          "MiscTechWorkedWith/Hadoop",
          "LanguageWorkedWith/Haskell",
          "DatabaseWorkedWith/IBM DB2",
          "LanguageWorkedWith/Java",
          "LanguageWorkedWith/JavaScript",
          "LanguageWorkedWith/Julia",
          "MiscTechWorkedWith/Keras",
          "LanguageWorkedWith/Kotlin",
          "WebframeWorkedWith/Laravel",
          "DatabaseWorkedWith/MariaDB",
          "DatabaseWorkedWith/Microsoft SQL Server",
          "DatabaseWorkedWith/MongoDB",
          "DatabaseWorkedWith/MySQL",
          "MiscTechWorkedWith/Node.js",
          "LanguageWorkedWith/Objective-C",
          "DatabaseWorkedWith/Oracle",
          "LanguageWorkedWith/PHP",
          "MiscTechWorkedWith/Pandas",
          "LanguageWorkedWith/Perl",
          "DatabaseWorkedWith/PostgreSQL",
          "MiscTechWorkedWith/Puppet",
          "LanguageWorkedWith/Python",
          "LanguageWorkedWith/R",
          "MiscTechWorkedWith/React Native",
          "WebframeWorkedWith/React.js",
          "DatabaseWorkedWith/Redis",
          "LanguageWorkedWith/Ruby",
          "WebframeWorkedWith/Ruby on Rails",
          "LanguageWorkedWith/Rust",
          "LanguageWorkedWith/SQL",
          "DatabaseWorkedWith/SQLite",
          "LanguageWorkedWith/Scala",
          "WebframeWorkedWith/Spring",
          "LanguageWorkedWith/Swift",
          "WebframeWorkedWith/Symfony",
          "MiscTechWorkedWith/TensorFlow",
          "MiscTechWorkedWith/Teraform",
          "MiscTechWorkedWith/Torch/PyTorch",
          "LanguageWorkedWith/TypeScript",
          "MiscTechWorkedWith/Unity 3D",
          "MiscTechWorkedWith/Unreal Engine",
          "LanguageWorkedWith/VBA",
          "WebframeWorkedWith/Vue.js",
          "MiscTechWorkedWith/Xamarin",
          "WebframeWorkedWith/jQuery",
          "DatabaseWorkedWith",
          "LanguageWorkedWith",
          "MiscTechWorkedWith",
          "WebframeWorkedWith"
         ],
         "labels": [
          "",
          "",
          "",
          "",
          ".NET",
          ".NET Core",
          "ASP.NET",
          "ASP.NET Core",
          "Angular",
          "Angular.js",
          "Ansible",
          "Apache Spark",
          "Assembly",
          "Bash/Shell/PowerShell",
          "C",
          "C#",
          "C++",
          "Cassandra",
          "Chef",
          "Cordova",
          "Couchbase",
          "Dart",
          "Django",
          "Drupal",
          "DynamoDB",
          "Elasticsearch",
          "Express",
          "Firebase",
          "Flask",
          "Flutter",
          "Gatsby",
          "Go",
          "HTML/CSS",
          "Hadoop",
          "Haskell",
          "IBM DB2",
          "Java",
          "JavaScript",
          "Julia",
          "Keras",
          "Kotlin",
          "Laravel",
          "MariaDB",
          "Microsoft SQL Server",
          "MongoDB",
          "MySQL",
          "Node.js",
          "Objective-C",
          "Oracle",
          "PHP",
          "Pandas",
          "Perl",
          "PostgreSQL",
          "Puppet",
          "Python",
          "R",
          "React Native",
          "React.js",
          "Redis",
          "Ruby",
          "Ruby on Rails",
          "Rust",
          "SQL",
          "SQLite",
          "Scala",
          "Spring",
          "Swift",
          "Symfony",
          "TensorFlow",
          "Teraform",
          "Torch/PyTorch",
          "TypeScript",
          "Unity 3D",
          "Unreal Engine",
          "VBA",
          "Vue.js",
          "Xamarin",
          "jQuery",
          "DatabaseWorkedWith",
          "LanguageWorkedWith",
          "MiscTechWorkedWith",
          "WebframeWorkedWith"
         ],
         "marker": {
          "coloraxis": "coloraxis",
          "colors": [
           14924,
           7083,
           24147,
           22182,
           14144,
           10755,
           9258,
           8082,
           10617,
           6826,
           2955,
           2089,
           3553,
           18980,
           12487,
           18041,
           13707,
           1654,
           733,
           2419,
           937,
           2280,
           6014,
           1369,
           3497,
           6817,
           8961,
           7128,
           6005,
           2897,
           1703,
           5038,
           36181,
           1798,
           1222,
           1421,
           23074,
           38822,
           519,
           2504,
           4468,
           4680,
           8312,
           16336,
           13086,
           27559,
           20741,
           2340,
           8155,
           15007,
           6253,
           1796,
           17892,
           945,
           25287,
           3288,
           4626,
           15167,
           9056,
           4046,
           2944,
           2929,
           31413,
           15434,
           2052,
           6941,
           3397,
           1851,
           4652,
           2518,
           1872,
           14578,
           4413,
           1316,
           3499,
           7322,
           2357,
           18316,
           15185.869875433616,
           22466.719757224142,
           13019.873762419613,
           12015.40919284133
          ]
         },
         "name": "",
         "parents": [
          "DatabaseWorkedWith",
          "LanguageWorkedWith",
          "MiscTechWorkedWith",
          "WebframeWorkedWith",
          "MiscTechWorkedWith",
          "MiscTechWorkedWith",
          "WebframeWorkedWith",
          "WebframeWorkedWith",
          "WebframeWorkedWith",
          "WebframeWorkedWith",
          "MiscTechWorkedWith",
          "MiscTechWorkedWith",
          "LanguageWorkedWith",
          "LanguageWorkedWith",
          "LanguageWorkedWith",
          "LanguageWorkedWith",
          "LanguageWorkedWith",
          "DatabaseWorkedWith",
          "MiscTechWorkedWith",
          "MiscTechWorkedWith",
          "DatabaseWorkedWith",
          "LanguageWorkedWith",
          "WebframeWorkedWith",
          "WebframeWorkedWith",
          "DatabaseWorkedWith",
          "DatabaseWorkedWith",
          "WebframeWorkedWith",
          "DatabaseWorkedWith",
          "WebframeWorkedWith",
          "MiscTechWorkedWith",
          "WebframeWorkedWith",
          "LanguageWorkedWith",
          "LanguageWorkedWith",
          "MiscTechWorkedWith",
          "LanguageWorkedWith",
          "DatabaseWorkedWith",
          "LanguageWorkedWith",
          "LanguageWorkedWith",
          "LanguageWorkedWith",
          "MiscTechWorkedWith",
          "LanguageWorkedWith",
          "WebframeWorkedWith",
          "DatabaseWorkedWith",
          "DatabaseWorkedWith",
          "DatabaseWorkedWith",
          "DatabaseWorkedWith",
          "MiscTechWorkedWith",
          "LanguageWorkedWith",
          "DatabaseWorkedWith",
          "LanguageWorkedWith",
          "MiscTechWorkedWith",
          "LanguageWorkedWith",
          "DatabaseWorkedWith",
          "MiscTechWorkedWith",
          "LanguageWorkedWith",
          "LanguageWorkedWith",
          "MiscTechWorkedWith",
          "WebframeWorkedWith",
          "DatabaseWorkedWith",
          "LanguageWorkedWith",
          "WebframeWorkedWith",
          "LanguageWorkedWith",
          "LanguageWorkedWith",
          "DatabaseWorkedWith",
          "LanguageWorkedWith",
          "WebframeWorkedWith",
          "LanguageWorkedWith",
          "WebframeWorkedWith",
          "MiscTechWorkedWith",
          "MiscTechWorkedWith",
          "MiscTechWorkedWith",
          "LanguageWorkedWith",
          "MiscTechWorkedWith",
          "MiscTechWorkedWith",
          "LanguageWorkedWith",
          "WebframeWorkedWith",
          "MiscTechWorkedWith",
          "WebframeWorkedWith",
          "",
          "",
          "",
          ""
         ],
         "type": "treemap",
         "values": [
          14924,
          7083,
          24147,
          22182,
          14144,
          10755,
          9258,
          8082,
          10617,
          6826,
          2955,
          2089,
          3553,
          18980,
          12487,
          18041,
          13707,
          1654,
          733,
          2419,
          937,
          2280,
          6014,
          1369,
          3497,
          6817,
          8961,
          7128,
          6005,
          2897,
          1703,
          5038,
          36181,
          1798,
          1222,
          1421,
          23074,
          38822,
          519,
          2504,
          4468,
          4680,
          8312,
          16336,
          13086,
          27559,
          20741,
          2340,
          8155,
          15007,
          6253,
          1796,
          17892,
          945,
          25287,
          3288,
          4626,
          15167,
          9056,
          4046,
          2944,
          2929,
          31413,
          15434,
          2052,
          6941,
          3397,
          1851,
          4652,
          2518,
          1872,
          14578,
          4413,
          1316,
          3499,
          7322,
          2357,
          18316,
          152208,
          295087,
          114134,
          138238
         ]
        }
       ],
       "layout": {
        "coloraxis": {
         "colorbar": {
          "title": {
           "text": "Freq"
          }
         },
         "colorscale": [
          [
           0,
           "rgb(255,247,236)"
          ],
          [
           0.125,
           "rgb(254,232,200)"
          ],
          [
           0.25,
           "rgb(253,212,158)"
          ],
          [
           0.375,
           "rgb(253,187,132)"
          ],
          [
           0.5,
           "rgb(252,141,89)"
          ],
          [
           0.625,
           "rgb(239,101,72)"
          ],
          [
           0.75,
           "rgb(215,48,31)"
          ],
          [
           0.875,
           "rgb(179,0,0)"
          ],
          [
           1,
           "rgb(127,0,0)"
          ]
         ]
        },
        "height": 700,
        "legend": {
         "tracegroupgap": 0
        },
        "margin": {
         "t": 60
        },
        "template": {
         "data": {
          "bar": [
           {
            "error_x": {
             "color": "#2a3f5f"
            },
            "error_y": {
             "color": "#2a3f5f"
            },
            "marker": {
             "line": {
              "color": "#E5ECF6",
              "width": 0.5
             },
             "pattern": {
              "fillmode": "overlay",
              "size": 10,
              "solidity": 0.2
             }
            },
            "type": "bar"
           }
          ],
          "barpolar": [
           {
            "marker": {
             "line": {
              "color": "#E5ECF6",
              "width": 0.5
             },
             "pattern": {
              "fillmode": "overlay",
              "size": 10,
              "solidity": 0.2
             }
            },
            "type": "barpolar"
           }
          ],
          "carpet": [
           {
            "aaxis": {
             "endlinecolor": "#2a3f5f",
             "gridcolor": "white",
             "linecolor": "white",
             "minorgridcolor": "white",
             "startlinecolor": "#2a3f5f"
            },
            "baxis": {
             "endlinecolor": "#2a3f5f",
             "gridcolor": "white",
             "linecolor": "white",
             "minorgridcolor": "white",
             "startlinecolor": "#2a3f5f"
            },
            "type": "carpet"
           }
          ],
          "choropleth": [
           {
            "colorbar": {
             "outlinewidth": 0,
             "ticks": ""
            },
            "type": "choropleth"
           }
          ],
          "contour": [
           {
            "colorbar": {
             "outlinewidth": 0,
             "ticks": ""
            },
            "colorscale": [
             [
              0,
              "#0d0887"
             ],
             [
              0.1111111111111111,
              "#46039f"
             ],
             [
              0.2222222222222222,
              "#7201a8"
             ],
             [
              0.3333333333333333,
              "#9c179e"
             ],
             [
              0.4444444444444444,
              "#bd3786"
             ],
             [
              0.5555555555555556,
              "#d8576b"
             ],
             [
              0.6666666666666666,
              "#ed7953"
             ],
             [
              0.7777777777777778,
              "#fb9f3a"
             ],
             [
              0.8888888888888888,
              "#fdca26"
             ],
             [
              1,
              "#f0f921"
             ]
            ],
            "type": "contour"
           }
          ],
          "contourcarpet": [
           {
            "colorbar": {
             "outlinewidth": 0,
             "ticks": ""
            },
            "type": "contourcarpet"
           }
          ],
          "heatmap": [
           {
            "colorbar": {
             "outlinewidth": 0,
             "ticks": ""
            },
            "colorscale": [
             [
              0,
              "#0d0887"
             ],
             [
              0.1111111111111111,
              "#46039f"
             ],
             [
              0.2222222222222222,
              "#7201a8"
             ],
             [
              0.3333333333333333,
              "#9c179e"
             ],
             [
              0.4444444444444444,
              "#bd3786"
             ],
             [
              0.5555555555555556,
              "#d8576b"
             ],
             [
              0.6666666666666666,
              "#ed7953"
             ],
             [
              0.7777777777777778,
              "#fb9f3a"
             ],
             [
              0.8888888888888888,
              "#fdca26"
             ],
             [
              1,
              "#f0f921"
             ]
            ],
            "type": "heatmap"
           }
          ],
          "heatmapgl": [
           {
            "colorbar": {
             "outlinewidth": 0,
             "ticks": ""
            },
            "colorscale": [
             [
              0,
              "#0d0887"
             ],
             [
              0.1111111111111111,
              "#46039f"
             ],
             [
              0.2222222222222222,
              "#7201a8"
             ],
             [
              0.3333333333333333,
              "#9c179e"
             ],
             [
              0.4444444444444444,
              "#bd3786"
             ],
             [
              0.5555555555555556,
              "#d8576b"
             ],
             [
              0.6666666666666666,
              "#ed7953"
             ],
             [
              0.7777777777777778,
              "#fb9f3a"
             ],
             [
              0.8888888888888888,
              "#fdca26"
             ],
             [
              1,
              "#f0f921"
             ]
            ],
            "type": "heatmapgl"
           }
          ],
          "histogram": [
           {
            "marker": {
             "pattern": {
              "fillmode": "overlay",
              "size": 10,
              "solidity": 0.2
             }
            },
            "type": "histogram"
           }
          ],
          "histogram2d": [
           {
            "colorbar": {
             "outlinewidth": 0,
             "ticks": ""
            },
            "colorscale": [
             [
              0,
              "#0d0887"
             ],
             [
              0.1111111111111111,
              "#46039f"
             ],
             [
              0.2222222222222222,
              "#7201a8"
             ],
             [
              0.3333333333333333,
              "#9c179e"
             ],
             [
              0.4444444444444444,
              "#bd3786"
             ],
             [
              0.5555555555555556,
              "#d8576b"
             ],
             [
              0.6666666666666666,
              "#ed7953"
             ],
             [
              0.7777777777777778,
              "#fb9f3a"
             ],
             [
              0.8888888888888888,
              "#fdca26"
             ],
             [
              1,
              "#f0f921"
             ]
            ],
            "type": "histogram2d"
           }
          ],
          "histogram2dcontour": [
           {
            "colorbar": {
             "outlinewidth": 0,
             "ticks": ""
            },
            "colorscale": [
             [
              0,
              "#0d0887"
             ],
             [
              0.1111111111111111,
              "#46039f"
             ],
             [
              0.2222222222222222,
              "#7201a8"
             ],
             [
              0.3333333333333333,
              "#9c179e"
             ],
             [
              0.4444444444444444,
              "#bd3786"
             ],
             [
              0.5555555555555556,
              "#d8576b"
             ],
             [
              0.6666666666666666,
              "#ed7953"
             ],
             [
              0.7777777777777778,
              "#fb9f3a"
             ],
             [
              0.8888888888888888,
              "#fdca26"
             ],
             [
              1,
              "#f0f921"
             ]
            ],
            "type": "histogram2dcontour"
           }
          ],
          "mesh3d": [
           {
            "colorbar": {
             "outlinewidth": 0,
             "ticks": ""
            },
            "type": "mesh3d"
           }
          ],
          "parcoords": [
           {
            "line": {
             "colorbar": {
              "outlinewidth": 0,
              "ticks": ""
             }
            },
            "type": "parcoords"
           }
          ],
          "pie": [
           {
            "automargin": true,
            "type": "pie"
           }
          ],
          "scatter": [
           {
            "fillpattern": {
             "fillmode": "overlay",
             "size": 10,
             "solidity": 0.2
            },
            "type": "scatter"
           }
          ],
          "scatter3d": [
           {
            "line": {
             "colorbar": {
              "outlinewidth": 0,
              "ticks": ""
             }
            },
            "marker": {
             "colorbar": {
              "outlinewidth": 0,
              "ticks": ""
             }
            },
            "type": "scatter3d"
           }
          ],
          "scattercarpet": [
           {
            "marker": {
             "colorbar": {
              "outlinewidth": 0,
              "ticks": ""
             }
            },
            "type": "scattercarpet"
           }
          ],
          "scattergeo": [
           {
            "marker": {
             "colorbar": {
              "outlinewidth": 0,
              "ticks": ""
             }
            },
            "type": "scattergeo"
           }
          ],
          "scattergl": [
           {
            "marker": {
             "colorbar": {
              "outlinewidth": 0,
              "ticks": ""
             }
            },
            "type": "scattergl"
           }
          ],
          "scattermapbox": [
           {
            "marker": {
             "colorbar": {
              "outlinewidth": 0,
              "ticks": ""
             }
            },
            "type": "scattermapbox"
           }
          ],
          "scatterpolar": [
           {
            "marker": {
             "colorbar": {
              "outlinewidth": 0,
              "ticks": ""
             }
            },
            "type": "scatterpolar"
           }
          ],
          "scatterpolargl": [
           {
            "marker": {
             "colorbar": {
              "outlinewidth": 0,
              "ticks": ""
             }
            },
            "type": "scatterpolargl"
           }
          ],
          "scatterternary": [
           {
            "marker": {
             "colorbar": {
              "outlinewidth": 0,
              "ticks": ""
             }
            },
            "type": "scatterternary"
           }
          ],
          "surface": [
           {
            "colorbar": {
             "outlinewidth": 0,
             "ticks": ""
            },
            "colorscale": [
             [
              0,
              "#0d0887"
             ],
             [
              0.1111111111111111,
              "#46039f"
             ],
             [
              0.2222222222222222,
              "#7201a8"
             ],
             [
              0.3333333333333333,
              "#9c179e"
             ],
             [
              0.4444444444444444,
              "#bd3786"
             ],
             [
              0.5555555555555556,
              "#d8576b"
             ],
             [
              0.6666666666666666,
              "#ed7953"
             ],
             [
              0.7777777777777778,
              "#fb9f3a"
             ],
             [
              0.8888888888888888,
              "#fdca26"
             ],
             [
              1,
              "#f0f921"
             ]
            ],
            "type": "surface"
           }
          ],
          "table": [
           {
            "cells": {
             "fill": {
              "color": "#EBF0F8"
             },
             "line": {
              "color": "white"
             }
            },
            "header": {
             "fill": {
              "color": "#C8D4E3"
             },
             "line": {
              "color": "white"
             }
            },
            "type": "table"
           }
          ]
         },
         "layout": {
          "annotationdefaults": {
           "arrowcolor": "#2a3f5f",
           "arrowhead": 0,
           "arrowwidth": 1
          },
          "autotypenumbers": "strict",
          "coloraxis": {
           "colorbar": {
            "outlinewidth": 0,
            "ticks": ""
           }
          },
          "colorscale": {
           "diverging": [
            [
             0,
             "#8e0152"
            ],
            [
             0.1,
             "#c51b7d"
            ],
            [
             0.2,
             "#de77ae"
            ],
            [
             0.3,
             "#f1b6da"
            ],
            [
             0.4,
             "#fde0ef"
            ],
            [
             0.5,
             "#f7f7f7"
            ],
            [
             0.6,
             "#e6f5d0"
            ],
            [
             0.7,
             "#b8e186"
            ],
            [
             0.8,
             "#7fbc41"
            ],
            [
             0.9,
             "#4d9221"
            ],
            [
             1,
             "#276419"
            ]
           ],
           "sequential": [
            [
             0,
             "#0d0887"
            ],
            [
             0.1111111111111111,
             "#46039f"
            ],
            [
             0.2222222222222222,
             "#7201a8"
            ],
            [
             0.3333333333333333,
             "#9c179e"
            ],
            [
             0.4444444444444444,
             "#bd3786"
            ],
            [
             0.5555555555555556,
             "#d8576b"
            ],
            [
             0.6666666666666666,
             "#ed7953"
            ],
            [
             0.7777777777777778,
             "#fb9f3a"
            ],
            [
             0.8888888888888888,
             "#fdca26"
            ],
            [
             1,
             "#f0f921"
            ]
           ],
           "sequentialminus": [
            [
             0,
             "#0d0887"
            ],
            [
             0.1111111111111111,
             "#46039f"
            ],
            [
             0.2222222222222222,
             "#7201a8"
            ],
            [
             0.3333333333333333,
             "#9c179e"
            ],
            [
             0.4444444444444444,
             "#bd3786"
            ],
            [
             0.5555555555555556,
             "#d8576b"
            ],
            [
             0.6666666666666666,
             "#ed7953"
            ],
            [
             0.7777777777777778,
             "#fb9f3a"
            ],
            [
             0.8888888888888888,
             "#fdca26"
            ],
            [
             1,
             "#f0f921"
            ]
           ]
          },
          "colorway": [
           "#636efa",
           "#EF553B",
           "#00cc96",
           "#ab63fa",
           "#FFA15A",
           "#19d3f3",
           "#FF6692",
           "#B6E880",
           "#FF97FF",
           "#FECB52"
          ],
          "font": {
           "color": "#2a3f5f"
          },
          "geo": {
           "bgcolor": "white",
           "lakecolor": "white",
           "landcolor": "#E5ECF6",
           "showlakes": true,
           "showland": true,
           "subunitcolor": "white"
          },
          "hoverlabel": {
           "align": "left"
          },
          "hovermode": "closest",
          "mapbox": {
           "style": "light"
          },
          "paper_bgcolor": "white",
          "plot_bgcolor": "#E5ECF6",
          "polar": {
           "angularaxis": {
            "gridcolor": "white",
            "linecolor": "white",
            "ticks": ""
           },
           "bgcolor": "#E5ECF6",
           "radialaxis": {
            "gridcolor": "white",
            "linecolor": "white",
            "ticks": ""
           }
          },
          "scene": {
           "xaxis": {
            "backgroundcolor": "#E5ECF6",
            "gridcolor": "white",
            "gridwidth": 2,
            "linecolor": "white",
            "showbackground": true,
            "ticks": "",
            "zerolinecolor": "white"
           },
           "yaxis": {
            "backgroundcolor": "#E5ECF6",
            "gridcolor": "white",
            "gridwidth": 2,
            "linecolor": "white",
            "showbackground": true,
            "ticks": "",
            "zerolinecolor": "white"
           },
           "zaxis": {
            "backgroundcolor": "#E5ECF6",
            "gridcolor": "white",
            "gridwidth": 2,
            "linecolor": "white",
            "showbackground": true,
            "ticks": "",
            "zerolinecolor": "white"
           }
          },
          "shapedefaults": {
           "line": {
            "color": "#2a3f5f"
           }
          },
          "ternary": {
           "aaxis": {
            "gridcolor": "white",
            "linecolor": "white",
            "ticks": ""
           },
           "baxis": {
            "gridcolor": "white",
            "linecolor": "white",
            "ticks": ""
           },
           "bgcolor": "#E5ECF6",
           "caxis": {
            "gridcolor": "white",
            "linecolor": "white",
            "ticks": ""
           }
          },
          "title": {
           "x": 0.05
          },
          "xaxis": {
           "automargin": true,
           "gridcolor": "white",
           "linecolor": "white",
           "ticks": "",
           "title": {
            "standoff": 15
           },
           "zerolinecolor": "white",
           "zerolinewidth": 2
          },
          "yaxis": {
           "automargin": true,
           "gridcolor": "white",
           "linecolor": "white",
           "ticks": "",
           "title": {
            "standoff": 15
           },
           "zerolinecolor": "white",
           "zerolinewidth": 2
          }
         }
        },
        "width": 1400
       }
      },
      "image/png": "[encoded data removed]",
      "text/html": [
       "<div>                            <div id=\"6852882f-4f9c-4b96-8de4-e7d5196fc581\" class=\"plotly-graph-div\" style=\"height:700px; width:1400px;\"></div>            <script type=\"text/javascript\">                require([\"plotly\"], function(Plotly) {                    window.PLOTLYENV=window.PLOTLYENV || {};                                    if (document.getElementById(\"6852882f-4f9c-4b96-8de4-e7d5196fc581\")) {                    Plotly.newPlot(                        \"6852882f-4f9c-4b96-8de4-e7d5196fc581\",                        [{\"branchvalues\":\"total\",\"customdata\":[[14924.0],[7083.0],[24147.0],[22182.0],[14144.0],[10755.0],[9258.0],[8082.0],[10617.0],[6826.0],[2955.0],[2089.0],[3553.0],[18980.0],[12487.0],[18041.0],[13707.0],[1654.0],[733.0],[2419.0],[937.0],[2280.0],[6014.0],[1369.0],[3497.0],[6817.0],[8961.0],[7128.0],[6005.0],[2897.0],[1703.0],[5038.0],[36181.0],[1798.0],[1222.0],[1421.0],[23074.0],[38822.0],[519.0],[2504.0],[4468.0],[4680.0],[8312.0],[16336.0],[13086.0],[27559.0],[20741.0],[2340.0],[8155.0],[15007.0],[6253.0],[1796.0],[17892.0],[945.0],[25287.0],[3288.0],[4626.0],[15167.0],[9056.0],[4046.0],[2944.0],[2929.0],[31413.0],[15434.0],[2052.0],[6941.0],[3397.0],[1851.0],[4652.0],[2518.0],[1872.0],[14578.0],[4413.0],[1316.0],[3499.0],[7322.0],[2357.0],[18316.0],[15185.869875433616],[22466.719757224142],[13019.873762419613],[12015.40919284133]],\"domain\":{\"x\":[0.0,1.0],\"y\":[0.0,1.0]},\"hovertemplate\":\"labels=%{label}<br>Freq_sum=%{value}<br>parent=%{parent}<br>id=%{id}<br>Freq=%{color}<extra></extra>\",\"ids\":[\"DatabaseWorkedWith/\",\"LanguageWorkedWith/\",\"MiscTechWorkedWith/\",\"WebframeWorkedWith/\",\"MiscTechWorkedWith/.NET\",\"MiscTechWorkedWith/.NET Core\",\"WebframeWorkedWith/ASP.NET\",\"WebframeWorkedWith/ASP.NET Core\",\"WebframeWorkedWith/Angular\",\"WebframeWorkedWith/Angular.js\",\"MiscTechWorkedWith/Ansible\",\"MiscTechWorkedWith/Apache Spark\",\"LanguageWorkedWith/Assembly\",\"LanguageWorkedWith/Bash/Shell/PowerShell\",\"LanguageWorkedWith/C\",\"LanguageWorkedWith/C#\",\"LanguageWorkedWith/C++\",\"DatabaseWorkedWith/Cassandra\",\"MiscTechWorkedWith/Chef\",\"MiscTechWorkedWith/Cordova\",\"DatabaseWorkedWith/Couchbase\",\"LanguageWorkedWith/Dart\",\"WebframeWorkedWith/Django\",\"WebframeWorkedWith/Drupal\",\"DatabaseWorkedWith/DynamoDB\",\"DatabaseWorkedWith/Elasticsearch\",\"WebframeWorkedWith/Express\",\"DatabaseWorkedWith/Firebase\",\"WebframeWorkedWith/Flask\",\"MiscTechWorkedWith/Flutter\",\"WebframeWorkedWith/Gatsby\",\"LanguageWorkedWith/Go\",\"LanguageWorkedWith/HTML/CSS\",\"MiscTechWorkedWith/Hadoop\",\"LanguageWorkedWith/Haskell\",\"DatabaseWorkedWith/IBM DB2\",\"LanguageWorkedWith/Java\",\"LanguageWorkedWith/JavaScript\",\"LanguageWorkedWith/Julia\",\"MiscTechWorkedWith/Keras\",\"LanguageWorkedWith/Kotlin\",\"WebframeWorkedWith/Laravel\",\"DatabaseWorkedWith/MariaDB\",\"DatabaseWorkedWith/Microsoft SQL Server\",\"DatabaseWorkedWith/MongoDB\",\"DatabaseWorkedWith/MySQL\",\"MiscTechWorkedWith/Node.js\",\"LanguageWorkedWith/Objective-C\",\"DatabaseWorkedWith/Oracle\",\"LanguageWorkedWith/PHP\",\"MiscTechWorkedWith/Pandas\",\"LanguageWorkedWith/Perl\",\"DatabaseWorkedWith/PostgreSQL\",\"MiscTechWorkedWith/Puppet\",\"LanguageWorkedWith/Python\",\"LanguageWorkedWith/R\",\"MiscTechWorkedWith/React Native\",\"WebframeWorkedWith/React.js\",\"DatabaseWorkedWith/Redis\",\"LanguageWorkedWith/Ruby\",\"WebframeWorkedWith/Ruby on Rails\",\"LanguageWorkedWith/Rust\",\"LanguageWorkedWith/SQL\",\"DatabaseWorkedWith/SQLite\",\"LanguageWorkedWith/Scala\",\"WebframeWorkedWith/Spring\",\"LanguageWorkedWith/Swift\",\"WebframeWorkedWith/Symfony\",\"MiscTechWorkedWith/TensorFlow\",\"MiscTechWorkedWith/Teraform\",\"MiscTechWorkedWith/Torch/PyTorch\",\"LanguageWorkedWith/TypeScript\",\"MiscTechWorkedWith/Unity 3D\",\"MiscTechWorkedWith/Unreal Engine\",\"LanguageWorkedWith/VBA\",\"WebframeWorkedWith/Vue.js\",\"MiscTechWorkedWith/Xamarin\",\"WebframeWorkedWith/jQuery\",\"DatabaseWorkedWith\",\"LanguageWorkedWith\",\"MiscTechWorkedWith\",\"WebframeWorkedWith\"],\"labels\":[\"\",\"\",\"\",\"\",\".NET\",\".NET Core\",\"ASP.NET\",\"ASP.NET Core\",\"Angular\",\"Angular.js\",\"Ansible\",\"Apache Spark\",\"Assembly\",\"Bash/Shell/PowerShell\",\"C\",\"C#\",\"C++\",\"Cassandra\",\"Chef\",\"Cordova\",\"Couchbase\",\"Dart\",\"Django\",\"Drupal\",\"DynamoDB\",\"Elasticsearch\",\"Express\",\"Firebase\",\"Flask\",\"Flutter\",\"Gatsby\",\"Go\",\"HTML/CSS\",\"Hadoop\",\"Haskell\",\"IBM DB2\",\"Java\",\"JavaScript\",\"Julia\",\"Keras\",\"Kotlin\",\"Laravel\",\"MariaDB\",\"Microsoft SQL Server\",\"MongoDB\",\"MySQL\",\"Node.js\",\"Objective-C\",\"Oracle\",\"PHP\",\"Pandas\",\"Perl\",\"PostgreSQL\",\"Puppet\",\"Python\",\"R\",\"React Native\",\"React.js\",\"Redis\",\"Ruby\",\"Ruby on Rails\",\"Rust\",\"SQL\",\"SQLite\",\"Scala\",\"Spring\",\"Swift\",\"Symfony\",\"TensorFlow\",\"Teraform\",\"Torch/PyTorch\",\"TypeScript\",\"Unity 3D\",\"Unreal Engine\",\"VBA\",\"Vue.js\",\"Xamarin\",\"jQuery\",\"DatabaseWorkedWith\",\"LanguageWorkedWith\",\"MiscTechWorkedWith\",\"WebframeWorkedWith\"],\"marker\":{\"coloraxis\":\"coloraxis\",\"colors\":[14924.0,7083.0,24147.0,22182.0,14144.0,10755.0,9258.0,8082.0,10617.0,6826.0,2955.0,2089.0,3553.0,18980.0,12487.0,18041.0,13707.0,1654.0,733.0,2419.0,937.0,2280.0,6014.0,1369.0,3497.0,6817.0,8961.0,7128.0,6005.0,2897.0,1703.0,5038.0,36181.0,1798.0,1222.0,1421.0,23074.0,38822.0,519.0,2504.0,4468.0,4680.0,8312.0,16336.0,13086.0,27559.0,20741.0,2340.0,8155.0,15007.0,6253.0,1796.0,17892.0,945.0,25287.0,3288.0,4626.0,15167.0,9056.0,4046.0,2944.0,2929.0,31413.0,15434.0,2052.0,6941.0,3397.0,1851.0,4652.0,2518.0,1872.0,14578.0,4413.0,1316.0,3499.0,7322.0,2357.0,18316.0,15185.869875433616,22466.719757224142,13019.873762419613,12015.40919284133]},\"name\":\"\",\"parents\":[\"DatabaseWorkedWith\",\"LanguageWorkedWith\",\"MiscTechWorkedWith\",\"WebframeWorkedWith\",\"MiscTechWorkedWith\",\"MiscTechWorkedWith\",\"WebframeWorkedWith\",\"WebframeWorkedWith\",\"WebframeWorkedWith\",\"WebframeWorkedWith\",\"MiscTechWorkedWith\",\"MiscTechWorkedWith\",\"LanguageWorkedWith\",\"LanguageWorkedWith\",\"LanguageWorkedWith\",\"LanguageWorkedWith\",\"LanguageWorkedWith\",\"DatabaseWorkedWith\",\"MiscTechWorkedWith\",\"MiscTechWorkedWith\",\"DatabaseWorkedWith\",\"LanguageWorkedWith\",\"WebframeWorkedWith\",\"WebframeWorkedWith\",\"DatabaseWorkedWith\",\"DatabaseWorkedWith\",\"WebframeWorkedWith\",\"DatabaseWorkedWith\",\"WebframeWorkedWith\",\"MiscTechWorkedWith\",\"WebframeWorkedWith\",\"LanguageWorkedWith\",\"LanguageWorkedWith\",\"MiscTechWorkedWith\",\"LanguageWorkedWith\",\"DatabaseWorkedWith\",\"LanguageWorkedWith\",\"LanguageWorkedWith\",\"LanguageWorkedWith\",\"MiscTechWorkedWith\",\"LanguageWorkedWith\",\"WebframeWorkedWith\",\"DatabaseWorkedWith\",\"DatabaseWorkedWith\",\"DatabaseWorkedWith\",\"DatabaseWorkedWith\",\"MiscTechWorkedWith\",\"LanguageWorkedWith\",\"DatabaseWorkedWith\",\"LanguageWorkedWith\",\"MiscTechWorkedWith\",\"LanguageWorkedWith\",\"DatabaseWorkedWith\",\"MiscTechWorkedWith\",\"LanguageWorkedWith\",\"LanguageWorkedWith\",\"MiscTechWorkedWith\",\"WebframeWorkedWith\",\"DatabaseWorkedWith\",\"LanguageWorkedWith\",\"WebframeWorkedWith\",\"LanguageWorkedWith\",\"LanguageWorkedWith\",\"DatabaseWorkedWith\",\"LanguageWorkedWith\",\"WebframeWorkedWith\",\"LanguageWorkedWith\",\"WebframeWorkedWith\",\"MiscTechWorkedWith\",\"MiscTechWorkedWith\",\"MiscTechWorkedWith\",\"LanguageWorkedWith\",\"MiscTechWorkedWith\",\"MiscTechWorkedWith\",\"LanguageWorkedWith\",\"WebframeWorkedWith\",\"MiscTechWorkedWith\",\"WebframeWorkedWith\",\"\",\"\",\"\",\"\"],\"values\":[14924,7083,24147,22182,14144,10755,9258,8082,10617,6826,2955,2089,3553,18980,12487,18041,13707,1654,733,2419,937,2280,6014,1369,3497,6817,8961,7128,6005,2897,1703,5038,36181,1798,1222,1421,23074,38822,519,2504,4468,4680,8312,16336,13086,27559,20741,2340,8155,15007,6253,1796,17892,945,25287,3288,4626,15167,9056,4046,2944,2929,31413,15434,2052,6941,3397,1851,4652,2518,1872,14578,4413,1316,3499,7322,2357,18316,152208,295087,114134,138238],\"type\":\"treemap\"}],                        {\"template\":{\"data\":{\"histogram2dcontour\":[{\"type\":\"histogram2dcontour\",\"colorbar\":{\"outlinewidth\":0,\"ticks\":\"\"},\"colorscale\":[[0.0,\"#0d0887\"],[0.1111111111111111,\"#46039f\"],[0.2222222222222222,\"#7201a8\"],[0.3333333333333333,\"#9c179e\"],[0.4444444444444444,\"#bd3786\"],[0.5555555555555556,\"#d8576b\"],[0.6666666666666666,\"#ed7953\"],[0.7777777777777778,\"#fb9f3a\"],[0.8888888888888888,\"#fdca26\"],[1.0,\"#f0f921\"]]}],\"choropleth\":[{\"type\":\"choropleth\",\"colorbar\":{\"outlinewidth\":0,\"ticks\":\"\"}}],\"histogram2d\":[{\"type\":\"histogram2d\",\"colorbar\":{\"outlinewidth\":0,\"ticks\":\"\"},\"colorscale\":[[0.0,\"#0d0887\"],[0.1111111111111111,\"#46039f\"],[0.2222222222222222,\"#7201a8\"],[0.3333333333333333,\"#9c179e\"],[0.4444444444444444,\"#bd3786\"],[0.5555555555555556,\"#d8576b\"],[0.6666666666666666,\"#ed7953\"],[0.7777777777777778,\"#fb9f3a\"],[0.8888888888888888,\"#fdca26\"],[1.0,\"#f0f921\"]]}],\"heatmap\":[{\"type\":\"heatmap\",\"colorbar\":{\"outlinewidth\":0,\"ticks\":\"\"},\"colorscale\":[[0.0,\"#0d0887\"],[0.1111111111111111,\"#46039f\"],[0.2222222222222222,\"#7201a8\"],[0.3333333333333333,\"#9c179e\"],[0.4444444444444444,\"#bd3786\"],[0.5555555555555556,\"#d8576b\"],[0.6666666666666666,\"#ed7953\"],[0.7777777777777778,\"#fb9f3a\"],[0.8888888888888888,\"#fdca26\"],[1.0,\"#f0f921\"]]}],\"heatmapgl\":[{\"type\":\"heatmapgl\",\"colorbar\":{\"outlinewidth\":0,\"ticks\":\"\"},\"colorscale\":[[0.0,\"#0d0887\"],[0.1111111111111111,\"#46039f\"],[0.2222222222222222,\"#7201a8\"],[0.3333333333333333,\"#9c179e\"],[0.4444444444444444,\"#bd3786\"],[0.5555555555555556,\"#d8576b\"],[0.6666666666666666,\"#ed7953\"],[0.7777777777777778,\"#fb9f3a\"],[0.8888888888888888,\"#fdca26\"],[1.0,\"#f0f921\"]]}],\"contourcarpet\":[{\"type\":\"contourcarpet\",\"colorbar\":{\"outlinewidth\":0,\"ticks\":\"\"}}],\"contour\":[{\"type\":\"contour\",\"colorbar\":{\"outlinewidth\":0,\"ticks\":\"\"},\"colorscale\":[[0.0,\"#0d0887\"],[0.1111111111111111,\"#46039f\"],[0.2222222222222222,\"#7201a8\"],[0.3333333333333333,\"#9c179e\"],[0.4444444444444444,\"#bd3786\"],[0.5555555555555556,\"#d8576b\"],[0.6666666666666666,\"#ed7953\"],[0.7777777777777778,\"#fb9f3a\"],[0.8888888888888888,\"#fdca26\"],[1.0,\"#f0f921\"]]}],\"surface\":[{\"type\":\"surface\",\"colorbar\":{\"outlinewidth\":0,\"ticks\":\"\"},\"colorscale\":[[0.0,\"#0d0887\"],[0.1111111111111111,\"#46039f\"],[0.2222222222222222,\"#7201a8\"],[0.3333333333333333,\"#9c179e\"],[0.4444444444444444,\"#bd3786\"],[0.5555555555555556,\"#d8576b\"],[0.6666666666666666,\"#ed7953\"],[0.7777777777777778,\"#fb9f3a\"],[0.8888888888888888,\"#fdca26\"],[1.0,\"#f0f921\"]]}],\"mesh3d\":[{\"type\":\"mesh3d\",\"colorbar\":{\"outlinewidth\":0,\"ticks\":\"\"}}],\"scatter\":[{\"fillpattern\":{\"fillmode\":\"overlay\",\"size\":10,\"solidity\":0.2},\"type\":\"scatter\"}],\"parcoords\":[{\"type\":\"parcoords\",\"line\":{\"colorbar\":{\"outlinewidth\":0,\"ticks\":\"\"}}}],\"scatterpolargl\":[{\"type\":\"scatterpolargl\",\"marker\":{\"colorbar\":{\"outlinewidth\":0,\"ticks\":\"\"}}}],\"bar\":[{\"error_x\":{\"color\":\"#2a3f5f\"},\"error_y\":{\"color\":\"#2a3f5f\"},\"marker\":{\"line\":{\"color\":\"#E5ECF6\",\"width\":0.5},\"pattern\":{\"fillmode\":\"overlay\",\"size\":10,\"solidity\":0.2}},\"type\":\"bar\"}],\"scattergeo\":[{\"type\":\"scattergeo\",\"marker\":{\"colorbar\":{\"outlinewidth\":0,\"ticks\":\"\"}}}],\"scatterpolar\":[{\"type\":\"scatterpolar\",\"marker\":{\"colorbar\":{\"outlinewidth\":0,\"ticks\":\"\"}}}],\"histogram\":[{\"marker\":{\"pattern\":{\"fillmode\":\"overlay\",\"size\":10,\"solidity\":0.2}},\"type\":\"histogram\"}],\"scattergl\":[{\"type\":\"scattergl\",\"marker\":{\"colorbar\":{\"outlinewidth\":0,\"ticks\":\"\"}}}],\"scatter3d\":[{\"type\":\"scatter3d\",\"line\":{\"colorbar\":{\"outlinewidth\":0,\"ticks\":\"\"}},\"marker\":{\"colorbar\":{\"outlinewidth\":0,\"ticks\":\"\"}}}],\"scattermapbox\":[{\"type\":\"scattermapbox\",\"marker\":{\"colorbar\":{\"outlinewidth\":0,\"ticks\":\"\"}}}],\"scatterternary\":[{\"type\":\"scatterternary\",\"marker\":{\"colorbar\":{\"outlinewidth\":0,\"ticks\":\"\"}}}],\"scattercarpet\":[{\"type\":\"scattercarpet\",\"marker\":{\"colorbar\":{\"outlinewidth\":0,\"ticks\":\"\"}}}],\"carpet\":[{\"aaxis\":{\"endlinecolor\":\"#2a3f5f\",\"gridcolor\":\"white\",\"linecolor\":\"white\",\"minorgridcolor\":\"white\",\"startlinecolor\":\"#2a3f5f\"},\"baxis\":{\"endlinecolor\":\"#2a3f5f\",\"gridcolor\":\"white\",\"linecolor\":\"white\",\"minorgridcolor\":\"white\",\"startlinecolor\":\"#2a3f5f\"},\"type\":\"carpet\"}],\"table\":[{\"cells\":{\"fill\":{\"color\":\"#EBF0F8\"},\"line\":{\"color\":\"white\"}},\"header\":{\"fill\":{\"color\":\"#C8D4E3\"},\"line\":{\"color\":\"white\"}},\"type\":\"table\"}],\"barpolar\":[{\"marker\":{\"line\":{\"color\":\"#E5ECF6\",\"width\":0.5},\"pattern\":{\"fillmode\":\"overlay\",\"size\":10,\"solidity\":0.2}},\"type\":\"barpolar\"}],\"pie\":[{\"automargin\":true,\"type\":\"pie\"}]},\"layout\":{\"autotypenumbers\":\"strict\",\"colorway\":[\"#636efa\",\"#EF553B\",\"#00cc96\",\"#ab63fa\",\"#FFA15A\",\"#19d3f3\",\"#FF6692\",\"#B6E880\",\"#FF97FF\",\"#FECB52\"],\"font\":{\"color\":\"#2a3f5f\"},\"hovermode\":\"closest\",\"hoverlabel\":{\"align\":\"left\"},\"paper_bgcolor\":\"white\",\"plot_bgcolor\":\"#E5ECF6\",\"polar\":{\"bgcolor\":\"#E5ECF6\",\"angularaxis\":{\"gridcolor\":\"white\",\"linecolor\":\"white\",\"ticks\":\"\"},\"radialaxis\":{\"gridcolor\":\"white\",\"linecolor\":\"white\",\"ticks\":\"\"}},\"ternary\":{\"bgcolor\":\"#E5ECF6\",\"aaxis\":{\"gridcolor\":\"white\",\"linecolor\":\"white\",\"ticks\":\"\"},\"baxis\":{\"gridcolor\":\"white\",\"linecolor\":\"white\",\"ticks\":\"\"},\"caxis\":{\"gridcolor\":\"white\",\"linecolor\":\"white\",\"ticks\":\"\"}},\"coloraxis\":{\"colorbar\":{\"outlinewidth\":0,\"ticks\":\"\"}},\"colorscale\":{\"sequential\":[[0.0,\"#0d0887\"],[0.1111111111111111,\"#46039f\"],[0.2222222222222222,\"#7201a8\"],[0.3333333333333333,\"#9c179e\"],[0.4444444444444444,\"#bd3786\"],[0.5555555555555556,\"#d8576b\"],[0.6666666666666666,\"#ed7953\"],[0.7777777777777778,\"#fb9f3a\"],[0.8888888888888888,\"#fdca26\"],[1.0,\"#f0f921\"]],\"sequentialminus\":[[0.0,\"#0d0887\"],[0.1111111111111111,\"#46039f\"],[0.2222222222222222,\"#7201a8\"],[0.3333333333333333,\"#9c179e\"],[0.4444444444444444,\"#bd3786\"],[0.5555555555555556,\"#d8576b\"],[0.6666666666666666,\"#ed7953\"],[0.7777777777777778,\"#fb9f3a\"],[0.8888888888888888,\"#fdca26\"],[1.0,\"#f0f921\"]],\"diverging\":[[0,\"#8e0152\"],[0.1,\"#c51b7d\"],[0.2,\"#de77ae\"],[0.3,\"#f1b6da\"],[0.4,\"#fde0ef\"],[0.5,\"#f7f7f7\"],[0.6,\"#e6f5d0\"],[0.7,\"#b8e186\"],[0.8,\"#7fbc41\"],[0.9,\"#4d9221\"],[1,\"#276419\"]]},\"xaxis\":{\"gridcolor\":\"white\",\"linecolor\":\"white\",\"ticks\":\"\",\"title\":{\"standoff\":15},\"zerolinecolor\":\"white\",\"automargin\":true,\"zerolinewidth\":2},\"yaxis\":{\"gridcolor\":\"white\",\"linecolor\":\"white\",\"ticks\":\"\",\"title\":{\"standoff\":15},\"zerolinecolor\":\"white\",\"automargin\":true,\"zerolinewidth\":2},\"scene\":{\"xaxis\":{\"backgroundcolor\":\"#E5ECF6\",\"gridcolor\":\"white\",\"linecolor\":\"white\",\"showbackground\":true,\"ticks\":\"\",\"zerolinecolor\":\"white\",\"gridwidth\":2},\"yaxis\":{\"backgroundcolor\":\"#E5ECF6\",\"gridcolor\":\"white\",\"linecolor\":\"white\",\"showbackground\":true,\"ticks\":\"\",\"zerolinecolor\":\"white\",\"gridwidth\":2},\"zaxis\":{\"backgroundcolor\":\"#E5ECF6\",\"gridcolor\":\"white\",\"linecolor\":\"white\",\"showbackground\":true,\"ticks\":\"\",\"zerolinecolor\":\"white\",\"gridwidth\":2}},\"shapedefaults\":{\"line\":{\"color\":\"#2a3f5f\"}},\"annotationdefaults\":{\"arrowcolor\":\"#2a3f5f\",\"arrowhead\":0,\"arrowwidth\":1},\"geo\":{\"bgcolor\":\"white\",\"landcolor\":\"#E5ECF6\",\"subunitcolor\":\"white\",\"showland\":true,\"showlakes\":true,\"lakecolor\":\"white\"},\"title\":{\"x\":0.05},\"mapbox\":{\"style\":\"light\"}}},\"coloraxis\":{\"colorbar\":{\"title\":{\"text\":\"Freq\"}},\"colorscale\":[[0.0,\"rgb(255,247,236)\"],[0.125,\"rgb(254,232,200)\"],[0.25,\"rgb(253,212,158)\"],[0.375,\"rgb(253,187,132)\"],[0.5,\"rgb(252,141,89)\"],[0.625,\"rgb(239,101,72)\"],[0.75,\"rgb(215,48,31)\"],[0.875,\"rgb(179,0,0)\"],[1.0,\"rgb(127,0,0)\"]]},\"legend\":{\"tracegroupgap\":0},\"margin\":{\"t\":60},\"width\":1400,\"height\":700},                        {\"responsive\": true}                    ).then(function(){\n",
       "                            \n",
       "var gd = document.getElementById('6852882f-4f9c-4b96-8de4-e7d5196fc581');\n",
       "var x = new MutationObserver(function (mutations, observer) {{\n",
       "        var display = window.getComputedStyle(gd).display;\n",
       "        if (!display || display === 'none') {{\n",
       "            console.log([gd, 'removed!']);\n",
       "            Plotly.purge(gd);\n",
       "            observer.disconnect();\n",
       "        }}\n",
       "}});\n",
       "\n",
       "// Listen for the removal of the full notebook cells\n",
       "var notebookContainer = gd.closest('#notebook-container');\n",
       "if (notebookContainer) {{\n",
       "    x.observe(notebookContainer, {childList: true});\n",
       "}}\n",
       "\n",
       "// Listen for the clearing of the current output cell\n",
       "var outputEl = gd.closest('.output');\n",
       "if (outputEl) {{\n",
       "    x.observe(outputEl, {childList: true});\n",
       "}}\n",
       "\n",
       "                        })                };                });            </script>        </div>"
      ]
     },
     "metadata": {},
     "output_type": "display_data"
    }
   ],
   "source": [
    "\n",
    "fig =px.treemap(skill_freq, path = ['Group', 'Skill'], values='Freq', color_continuous_scale='orrd', color='Freq')\n",
    "fig.update_layout(width=1400, height=700)"
   ]
  },
  {
   "cell_type": "code",
   "execution_count": null,
   "id": "ba3e4fc4-b598-4656-8863-f359e60607e9",
   "metadata": {},
   "outputs": [],
   "source": []
  },
  {
   "cell_type": "markdown",
   "id": "328f84e5-eebb-4fc6-a5b1-45db945fd786",
   "metadata": {},
   "source": [
    "## Jobs\n",
    "#### Freq. of each job"
   ]
  },
  {
   "cell_type": "code",
   "execution_count": null,
   "id": "4f6fdd55-c1dd-468c-b3ac-d6957fd72c9d",
   "metadata": {},
   "outputs": [],
   "source": []
  },
  {
   "cell_type": "code",
   "execution_count": null,
   "id": "38f7f808-1520-40c9-b0e6-3390b8069429",
   "metadata": {},
   "outputs": [],
   "source": []
  },
  {
   "cell_type": "markdown",
   "id": "32b5b099-4c5d-443d-b823-87858fdfce04",
   "metadata": {},
   "source": [
    "#### How are the jobs correlated with each others"
   ]
  },
  {
   "cell_type": "code",
   "execution_count": null,
   "id": "b81aae7c-1154-4a95-bd17-d7de90a43e6e",
   "metadata": {},
   "outputs": [],
   "source": []
  },
  {
   "cell_type": "code",
   "execution_count": null,
   "id": "6805e8cd-7590-4f5b-b582-cf25e5326ef0",
   "metadata": {},
   "outputs": [],
   "source": []
  },
  {
   "cell_type": "markdown",
   "id": "a09dec38-7e98-4a95-81a6-e79404051105",
   "metadata": {},
   "source": [
    "## Relation\n",
    "##### How are the skills coreelated with the jobs"
   ]
  },
  {
   "cell_type": "code",
   "execution_count": null,
   "id": "b09f1df0-bfd9-4e3d-a528-a297b3720afd",
   "metadata": {},
   "outputs": [],
   "source": []
  },
  {
   "cell_type": "code",
   "execution_count": null,
   "id": "2791d5d1-d056-4df9-b6c2-d221eb8de472",
   "metadata": {},
   "outputs": [],
   "source": []
  },
  {
   "cell_type": "markdown",
   "id": "a08259f6-3a2f-46d0-9438-29f908f58f97",
   "metadata": {},
   "source": [
    "#### What is the specificity of each skill to a job"
   ]
  },
  {
   "cell_type": "code",
   "execution_count": null,
   "id": "0034c807-2201-41b1-bc32-766e830a2ff5",
   "metadata": {},
   "outputs": [],
   "source": []
  }
 ],
 "metadata": {
  "kernelspec": {
   "display_name": "Python 3 (ipykernel)",
   "language": "python",
   "name": "python3"
  },
  "language_info": {
   "codemirror_mode": {
    "name": "ipython",
    "version": 3
   },
   "file_extension": ".py",
   "mimetype": "text/x-python",
   "name": "python",
   "nbconvert_exporter": "python",
   "pygments_lexer": "ipython3",
   "version": "3.9.12"
  }
 },
 "nbformat": 4,
 "nbformat_minor": 5
}
